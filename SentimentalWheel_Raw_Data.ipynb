{
 "cells": [
  {
   "cell_type": "markdown",
   "metadata": {},
   "source": [
    "### Sentiment Wheel project"
   ]
  },
  {
   "cell_type": "markdown",
   "metadata": {},
   "source": [
    "In this version, there is no preprocessing data except for the stop words and words starting with an @ symbol removal (for the second dataset). We made this version in order to compare with the notebook containing the preprocessed data results.\n",
    "\n",
    "We will develop a machine learning model that can classify the sentences according to their principal emotion.\n",
    "\n",
    "We will work with two datasets :\n",
    "- one from Kaggle (Emotion_final.csv)\n",
    "- one from data.world (text_emotion.csv)"
   ]
  },
  {
   "cell_type": "code",
   "execution_count": 1,
   "metadata": {},
   "outputs": [],
   "source": [
    "# import some librairies\n",
    "from time import time\n",
    "from collections import defaultdict\n",
    "\n",
    "import numpy as np\n",
    "import pandas as pd\n",
    "import string\n",
    "import matplotlib.pyplot as plt\n",
    "%matplotlib inline\n",
    "\n",
    "from sklearn.feature_extraction.text import CountVectorizer, TfidfVectorizer, TfidfTransformer\n",
    "from sklearn.metrics import f1_score,recall_score,precision_score,accuracy_score\n",
    "from sklearn.model_selection import ShuffleSplit\n",
    "from sklearn.pipeline import Pipeline, FeatureUnion\n",
    "from sklearn.linear_model import SGDClassifier, LogisticRegression, LogisticRegressionCV\n",
    "from sklearn.svm import SVC, LinearSVC\n",
    "from sklearn.naive_bayes import MultinomialNB, CategoricalNB, ComplementNB, BernoulliNB\n",
    "from sklearn.decomposition import FastICA, KernelPCA, TruncatedSVD, SparsePCA, NMF, FactorAnalysis, LatentDirichletAllocation\n",
    "import nltk\n",
    "\n",
    "from sklearn.metrics import plot_confusion_matrix\n",
    "from sklearn.metrics import classification_report"
   ]
  },
  {
   "cell_type": "markdown",
   "metadata": {},
   "source": [
    "### I . Analysis and classification on the first dataset"
   ]
  },
  {
   "cell_type": "code",
   "execution_count": 2,
   "metadata": {},
   "outputs": [],
   "source": [
    "# Kaggle data\n",
    "df1=pd.read_csv('Emotion_final.csv')"
   ]
  },
  {
   "cell_type": "code",
   "execution_count": 3,
   "metadata": {},
   "outputs": [
    {
     "data": {
      "text/html": [
       "<div>\n",
       "<style scoped>\n",
       "    .dataframe tbody tr th:only-of-type {\n",
       "        vertical-align: middle;\n",
       "    }\n",
       "\n",
       "    .dataframe tbody tr th {\n",
       "        vertical-align: top;\n",
       "    }\n",
       "\n",
       "    .dataframe thead th {\n",
       "        text-align: right;\n",
       "    }\n",
       "</style>\n",
       "<table border=\"1\" class=\"dataframe\">\n",
       "  <thead>\n",
       "    <tr style=\"text-align: right;\">\n",
       "      <th></th>\n",
       "      <th>Text</th>\n",
       "      <th>Emotion</th>\n",
       "    </tr>\n",
       "  </thead>\n",
       "  <tbody>\n",
       "    <tr>\n",
       "      <th>0</th>\n",
       "      <td>i didnt feel humiliated</td>\n",
       "      <td>sadness</td>\n",
       "    </tr>\n",
       "    <tr>\n",
       "      <th>1</th>\n",
       "      <td>i can go from feeling so hopeless to so damned...</td>\n",
       "      <td>sadness</td>\n",
       "    </tr>\n",
       "    <tr>\n",
       "      <th>2</th>\n",
       "      <td>im grabbing a minute to post i feel greedy wrong</td>\n",
       "      <td>anger</td>\n",
       "    </tr>\n",
       "    <tr>\n",
       "      <th>3</th>\n",
       "      <td>i am ever feeling nostalgic about the fireplac...</td>\n",
       "      <td>love</td>\n",
       "    </tr>\n",
       "    <tr>\n",
       "      <th>4</th>\n",
       "      <td>i am feeling grouchy</td>\n",
       "      <td>anger</td>\n",
       "    </tr>\n",
       "  </tbody>\n",
       "</table>\n",
       "</div>"
      ],
      "text/plain": [
       "                                                Text  Emotion\n",
       "0                            i didnt feel humiliated  sadness\n",
       "1  i can go from feeling so hopeless to so damned...  sadness\n",
       "2   im grabbing a minute to post i feel greedy wrong    anger\n",
       "3  i am ever feeling nostalgic about the fireplac...     love\n",
       "4                               i am feeling grouchy    anger"
      ]
     },
     "execution_count": 3,
     "metadata": {},
     "output_type": "execute_result"
    }
   ],
   "source": [
    "df1.head()"
   ]
  },
  {
   "cell_type": "code",
   "execution_count": 4,
   "metadata": {
    "scrolled": false
   },
   "outputs": [
    {
     "name": "stdout",
     "output_type": "stream",
     "text": [
      "<class 'pandas.core.frame.DataFrame'>\n",
      "RangeIndex: 21459 entries, 0 to 21458\n",
      "Data columns (total 2 columns):\n",
      " #   Column   Non-Null Count  Dtype \n",
      "---  ------   --------------  ----- \n",
      " 0   Text     21459 non-null  object\n",
      " 1   Emotion  21459 non-null  object\n",
      "dtypes: object(2)\n",
      "memory usage: 335.4+ KB\n"
     ]
    }
   ],
   "source": [
    "df1.info()"
   ]
  },
  {
   "cell_type": "markdown",
   "metadata": {},
   "source": [
    "As we can see above, we have 21459 non-null rows and 2 columns in the Kaggle dataset"
   ]
  },
  {
   "cell_type": "code",
   "execution_count": 5,
   "metadata": {
    "scrolled": false
   },
   "outputs": [
    {
     "data": {
      "text/plain": [
       "<AxesSubplot:>"
      ]
     },
     "execution_count": 5,
     "metadata": {},
     "output_type": "execute_result"
    },
    {
     "data": {
      "image/png": "[encoded data removed]",
      "text/plain": [
       "<Figure size 432x288 with 1 Axes>"
      ]
     },
     "metadata": {
      "needs_background": "light"
     },
     "output_type": "display_data"
    }
   ],
   "source": [
    "df1['Emotion'].value_counts().plot(kind='bar')"
   ]
  },
  {
   "cell_type": "markdown",
   "metadata": {},
   "source": [
    "The \"happy\" and \"sadness\" emotions are the two main emotions that stand out."
   ]
  },
  {
   "cell_type": "markdown",
   "metadata": {},
   "source": [
    "### Preprocessing data"
   ]
  },
  {
   "cell_type": "markdown",
   "metadata": {},
   "source": [
    "#### Stop words removal"
   ]
  },
  {
   "cell_type": "markdown",
   "metadata": {},
   "source": [
    "We will suppress words that do not have any semantic or sentimental value/weight in a sentence such as pronouns or auxiliary verbs."
   ]
  },
  {
   "cell_type": "code",
   "execution_count": 6,
   "metadata": {},
   "outputs": [
    {
     "name": "stdout",
     "output_type": "stream",
     "text": [
      "{'themselves', 'myself', 'o', 'that', 'does', 'so', \"wasn't\", 'further', 'by', 'some', 'those', 'why', 'now', 'him', 'against', 'wasn', 'after', 'she', 'very', 'ain', 'will', 'were', 'where', 'or', 'being', 'yourself', 'herself', 'they', 'on', 'too', 'nor', 'isn', 'did', 'through', 'over', \"mightn't\", 'then', 'the', 'his', 'can', 'y', 'shan', \"shan't\", 'been', 'more', 'own', \"that'll\", \"don't\", \"you've\", 'as', 'mightn', 'for', 'had', 'having', 'mustn', 'our', 'because', \"she's\", \"you'd\", 'aren', 'll', \"didn't\", 'both', 'above', 'to', 'be', 'other', 'won', 's', 'itself', 'same', 'during', 'but', 'any', 'them', \"wouldn't\", \"aren't\", 'doesn', 'off', 'while', 'if', 'when', \"couldn't\", 't', 'with', 'under', 'than', 'once', 'd', 'between', 'and', 'ours', 'not', 'it', \"you'll\", 'all', 'just', 'here', 'there', 'hers', 'have', 'until', 'weren', 'before', 'from', 'yourselves', \"shouldn't\", 'theirs', 'is', 'doing', \"mustn't\", 'you', 'down', 'has', 'its', 'are', \"should've\", 'about', 'whom', 'each', 'ma', 'needn', 'your', 'himself', 'don', 'no', 'these', 'an', 'most', 'shouldn', 'who', 'few', 'do', 'into', 'm', \"it's\", 'again', 'in', 'yours', 'ourselves', 'hasn', 've', 'should', 'such', \"haven't\", 'we', 'their', \"won't\", 'below', \"you're\", 'how', 'out', 'her', 'couldn', 'haven', \"weren't\", 'what', 'wouldn', 'at', \"doesn't\", 'a', 'he', 'my', 'was', 'of', \"hadn't\", 'which', \"hasn't\", 'this', 'am', 'only', \"needn't\", 're', 'i', 'up', 'hadn', \"isn't\", 'me', 'didn'}\n"
     ]
    }
   ],
   "source": [
    "stopwords = set(nltk.corpus.stopwords.words(\"english\"))\n",
    "print(stopwords)"
   ]
  },
  {
   "cell_type": "markdown",
   "metadata": {},
   "source": [
    "#### Counting the words"
   ]
  },
  {
   "cell_type": "code",
   "execution_count": 7,
   "metadata": {},
   "outputs": [
    {
     "name": "stdout",
     "output_type": "stream",
     "text": [
      "vocabulary size : 19070\n"
     ]
    },
    {
     "data": {
      "image/png": "[encoded data removed]",
      "text/plain": [
       "<Figure size 1440x576 with 1 Axes>"
      ]
     },
     "metadata": {
      "needs_background": "light"
     },
     "output_type": "display_data"
    }
   ],
   "source": [
    "# Remind which the corpus and the targets are\n",
    "corpus= np.array(df1['Text'])\n",
    "targets = np.array(df1['Emotion'])\n",
    "\n",
    "\n",
    "\n",
    "# Vobabulary analysis\n",
    "vec = CountVectorizer(stop_words=stopwords)\n",
    "X = vec.fit_transform(corpus)\n",
    "words = vec.get_feature_names()\n",
    "\n",
    "print(\"vocabulary size : %d\" % len(words) )\n",
    "\n",
    "# Compute rank\n",
    "wsum = np.array(X.sum(0))[0]\n",
    "ix = wsum.argsort()[::-1]\n",
    "wrank = wsum[ix] \n",
    "labels = [words[i] for i in ix]\n",
    "\n",
    "# Sub-sample the data to plot.\n",
    "# take the 20 first\n",
    "def subsample(x):\n",
    "    return np.hstack(x[:20])\n",
    "\n",
    "\n",
    "plt.figure(figsize=(20,8))\n",
    "freq = subsample(wrank)\n",
    "r = np.arange(len(freq))\n",
    "plt.bar(r, freq, width=0.7)\n",
    "plt.xticks(r, subsample(labels), rotation=55)\n",
    "plt.xlabel('word rank')\n",
    "plt.ylabel('word frequency')\n",
    "plt.title(\"Words ordered by rank. Only the first 20 ranks are displayed\");"
   ]
  },
  {
   "cell_type": "markdown",
   "metadata": {},
   "source": [
    "#### Creating the pipelines "
   ]
  },
  {
   "cell_type": "markdown",
   "metadata": {},
   "source": [
    "A pipeline is the process of tying together different pieces of the machine learning process.Each stage of a pipeline is fed data processed from its preceding stage. The output of a processing unit is supplied as the input to the next step. The data flows through the pipeline just as water flows in a pipe. \n",
    "Here we are going to use 5 differents classifiers with CountVectorizer."
   ]
  },
  {
   "cell_type": "code",
   "execution_count": 8,
   "metadata": {},
   "outputs": [],
   "source": [
    "# Linear Support Vector Machines\n",
    "pipe1 = Pipeline([\n",
    "    ('vect', CountVectorizer(stop_words=stopwords)),\n",
    "    ('svml', LinearSVC()),\n",
    "])\n",
    "\n",
    "# Logistic Regression\n",
    "pipe2 = Pipeline([\n",
    "    ('vect', CountVectorizer(stop_words=stopwords)),\n",
    "    ('logit', LogisticRegression(max_iter=1000)),\n",
    "])\n",
    "\n",
    "# Multinomial Naive Bayes\n",
    "pipe3 = Pipeline([\n",
    "    ('vect', CountVectorizer(stop_words=stopwords)),\n",
    "    ('mult_nb', MultinomialNB()),\n",
    "])\n",
    "\n",
    "# Complement Naive Bayes classifier \n",
    "pipe4 = Pipeline([\n",
    "    ('vect', CountVectorizer(stop_words=stopwords)),\n",
    "    ('compl_nb', ComplementNB()),\n",
    "])\n",
    "\n",
    "# Naive Bayes classifier for multivariate Bernoulli models\n",
    "pipe5 = Pipeline([\n",
    "    ('vect', CountVectorizer(stop_words=stopwords)),\n",
    "    ('bern_nb', BernoulliNB()),\n",
    "])"
   ]
  },
  {
   "cell_type": "code",
   "execution_count": 9,
   "metadata": {},
   "outputs": [],
   "source": [
    "# We create a function capable of training and testing our dataset with each classifier\n",
    "\n",
    "def run_pipes(pipes, splits=10, test_size=0.2, seed=42):  \n",
    "    res = defaultdict(list)\n",
    "    spliter = ShuffleSplit(n_splits=splits, test_size=test_size, random_state=seed)\n",
    "    for idx_train, idx_test in spliter.split(corpus):\n",
    "        for pipe in pipes:\n",
    "            # name of the model\n",
    "            name = \"-\".join([x[0] for x in pipe.steps])\n",
    "            \n",
    "            # extract datasets\n",
    "            X_train = corpus[idx_train]\n",
    "            X_test = corpus[idx_test]\n",
    "            y_train = targets[idx_train]\n",
    "            y_test = targets[idx_test]\n",
    "            \n",
    "            # Learn\n",
    "            start = time()\n",
    "            pipe.fit(X_train, y_train)\n",
    "            fit_time = time() - start\n",
    "            \n",
    "            # predict and \n",
    "            y = pipe.predict(X_test)\n",
    "            \n",
    "            # print classification report for each model\n",
    "            print(name)\n",
    "            print(classification_report(y_test, y))\n",
    "            \n",
    "            #save results\n",
    "            res[name].append([\n",
    "                fit_time,\n",
    "                precision_score(y_test, y,average='weighted'),\n",
    "                recall_score(y_test, y,average='weighted'),\n",
    "                f1_score(y_test, y,average='weighted'),\n",
    "            \n",
    "            ])\n",
    "            \n",
    "    return res\n",
    "\n",
    "def print_table(res):\n",
    "    # Compute the results\n",
    "    final = {}\n",
    "    for model in res:\n",
    "        arr = np.array(res[model])\n",
    "        final[model] = {\n",
    "            \"time\" : arr[:, 0][0].round(2),\n",
    "            \"precision_score\": arr[:,1][0].round(2),\n",
    "            \"recall_score\":arr[:, 2][0].round(2),\n",
    "            \"f1_score\":arr[:, 3][0].round(2),\n",
    "        }\n",
    "\n",
    "    df = pd.DataFrame.from_dict(final, orient=\"index\").reset_index()\n",
    "    return df\n"
   ]
  },
  {
   "cell_type": "code",
   "execution_count": 10,
   "metadata": {},
   "outputs": [
    {
     "name": "stdout",
     "output_type": "stream",
     "text": [
      "vect-svml\n",
      "              precision    recall  f1-score   support\n",
      "\n",
      "       anger       0.91      0.86      0.88       617\n",
      "        fear       0.88      0.86      0.87       531\n",
      "       happy       0.91      0.92      0.92      1381\n",
      "        love       0.79      0.79      0.79       318\n",
      "     sadness       0.92      0.93      0.93      1277\n",
      "    surprise       0.74      0.76      0.75       168\n",
      "\n",
      "    accuracy                           0.89      4292\n",
      "   macro avg       0.86      0.85      0.86      4292\n",
      "weighted avg       0.89      0.89      0.89      4292\n",
      "\n",
      "vect-logit\n",
      "              precision    recall  f1-score   support\n",
      "\n",
      "       anger       0.91      0.86      0.88       617\n",
      "        fear       0.87      0.85      0.86       531\n",
      "       happy       0.91      0.94      0.92      1381\n",
      "        love       0.82      0.78      0.80       318\n",
      "     sadness       0.92      0.94      0.93      1277\n",
      "    surprise       0.78      0.73      0.75       168\n",
      "\n",
      "    accuracy                           0.90      4292\n",
      "   macro avg       0.87      0.85      0.86      4292\n",
      "weighted avg       0.90      0.90      0.90      4292\n",
      "\n",
      "vect-mult_nb\n",
      "              precision    recall  f1-score   support\n",
      "\n",
      "       anger       0.89      0.65      0.75       617\n",
      "        fear       0.82      0.60      0.69       531\n",
      "       happy       0.76      0.95      0.84      1381\n",
      "        love       0.90      0.32      0.47       318\n",
      "     sadness       0.75      0.94      0.84      1277\n",
      "    surprise       0.96      0.14      0.24       168\n",
      "\n",
      "    accuracy                           0.78      4292\n",
      "   macro avg       0.85      0.60      0.64      4292\n",
      "weighted avg       0.80      0.78      0.76      4292\n",
      "\n",
      "vect-compl_nb\n",
      "              precision    recall  f1-score   support\n",
      "\n",
      "       anger       0.90      0.87      0.88       617\n",
      "        fear       0.84      0.85      0.84       531\n",
      "       happy       0.89      0.91      0.90      1381\n",
      "        love       0.81      0.74      0.78       318\n",
      "     sadness       0.90      0.93      0.91      1277\n",
      "    surprise       0.85      0.68      0.76       168\n",
      "\n",
      "    accuracy                           0.88      4292\n",
      "   macro avg       0.87      0.83      0.85      4292\n",
      "weighted avg       0.88      0.88      0.88      4292\n",
      "\n",
      "vect-bern_nb\n"
     ]
    },
    {
     "name": "stderr",
     "output_type": "stream",
     "text": [
      "/home/caroline09/anaconda3/envs/machlearn/lib/python3.8/site-packages/sklearn/metrics/_classification.py:1221: UndefinedMetricWarning: Precision and F-score are ill-defined and being set to 0.0 in labels with no predicted samples. Use `zero_division` parameter to control this behavior.\n",
      "  _warn_prf(average, modifier, msg_start, len(result))\n"
     ]
    },
    {
     "name": "stdout",
     "output_type": "stream",
     "text": [
      "              precision    recall  f1-score   support\n",
      "\n",
      "       anger       0.88      0.27      0.41       617\n",
      "        fear       0.79      0.20      0.31       531\n",
      "       happy       0.67      0.96      0.79      1381\n",
      "        love       0.60      0.02      0.04       318\n",
      "     sadness       0.61      0.95      0.75      1277\n",
      "    surprise       0.00      0.00      0.00       168\n",
      "\n",
      "    accuracy                           0.66      4292\n",
      "   macro avg       0.59      0.40      0.38      4292\n",
      "weighted avg       0.67      0.66      0.58      4292\n",
      "\n"
     ]
    },
    {
     "name": "stderr",
     "output_type": "stream",
     "text": [
      "/home/caroline09/anaconda3/envs/machlearn/lib/python3.8/site-packages/sklearn/metrics/_classification.py:1221: UndefinedMetricWarning: Precision is ill-defined and being set to 0.0 in labels with no predicted samples. Use `zero_division` parameter to control this behavior.\n",
      "  _warn_prf(average, modifier, msg_start, len(result))\n"
     ]
    }
   ],
   "source": [
    "corpus= np.array(df1['Text'])\n",
    "targets = np.array(df1['Emotion'])\n",
    "\n",
    "# run base pipes and displaying the classification reports\n",
    "res1 = run_pipes([pipe1, pipe2,pipe3,pipe4,pipe5], splits=1)"
   ]
  },
  {
   "cell_type": "code",
   "execution_count": 11,
   "metadata": {},
   "outputs": [
    {
     "data": {
      "text/html": [
       "<div>\n",
       "<style scoped>\n",
       "    .dataframe tbody tr th:only-of-type {\n",
       "        vertical-align: middle;\n",
       "    }\n",
       "\n",
       "    .dataframe tbody tr th {\n",
       "        vertical-align: top;\n",
       "    }\n",
       "\n",
       "    .dataframe thead th {\n",
       "        text-align: right;\n",
       "    }\n",
       "</style>\n",
       "<table border=\"1\" class=\"dataframe\">\n",
       "  <thead>\n",
       "    <tr style=\"text-align: right;\">\n",
       "      <th></th>\n",
       "      <th>index</th>\n",
       "      <th>time</th>\n",
       "      <th>precision_score</th>\n",
       "      <th>recall_score</th>\n",
       "      <th>f1_score</th>\n",
       "    </tr>\n",
       "  </thead>\n",
       "  <tbody>\n",
       "    <tr>\n",
       "      <th>0</th>\n",
       "      <td>vect-svml</td>\n",
       "      <td>7.05</td>\n",
       "      <td>0.89</td>\n",
       "      <td>0.89</td>\n",
       "      <td>0.89</td>\n",
       "    </tr>\n",
       "    <tr>\n",
       "      <th>1</th>\n",
       "      <td>vect-logit</td>\n",
       "      <td>18.21</td>\n",
       "      <td>0.90</td>\n",
       "      <td>0.90</td>\n",
       "      <td>0.90</td>\n",
       "    </tr>\n",
       "    <tr>\n",
       "      <th>2</th>\n",
       "      <td>vect-mult_nb</td>\n",
       "      <td>1.84</td>\n",
       "      <td>0.80</td>\n",
       "      <td>0.78</td>\n",
       "      <td>0.76</td>\n",
       "    </tr>\n",
       "    <tr>\n",
       "      <th>3</th>\n",
       "      <td>vect-compl_nb</td>\n",
       "      <td>2.15</td>\n",
       "      <td>0.88</td>\n",
       "      <td>0.88</td>\n",
       "      <td>0.88</td>\n",
       "    </tr>\n",
       "    <tr>\n",
       "      <th>4</th>\n",
       "      <td>vect-bern_nb</td>\n",
       "      <td>1.59</td>\n",
       "      <td>0.67</td>\n",
       "      <td>0.66</td>\n",
       "      <td>0.58</td>\n",
       "    </tr>\n",
       "  </tbody>\n",
       "</table>\n",
       "</div>"
      ],
      "text/plain": [
       "           index   time  precision_score  recall_score  f1_score\n",
       "0      vect-svml   7.05             0.89          0.89      0.89\n",
       "1     vect-logit  18.21             0.90          0.90      0.90\n",
       "2   vect-mult_nb   1.84             0.80          0.78      0.76\n",
       "3  vect-compl_nb   2.15             0.88          0.88      0.88\n",
       "4   vect-bern_nb   1.59             0.67          0.66      0.58"
      ]
     },
     "execution_count": 11,
     "metadata": {},
     "output_type": "execute_result"
    }
   ],
   "source": [
    "print_table(res1)"
   ]
  },
  {
   "cell_type": "markdown",
   "metadata": {},
   "source": [
    "If we look at the table above, we can see the Bernouilli classifier got the worst F1 score whereas the logistic regression and the Linear Support Vector Machines classifier got the best F1 score. Now let's try these pipelines with the second dataset."
   ]
  },
  {
   "cell_type": "markdown",
   "metadata": {},
   "source": [
    "### II . Analysis and classification on the second dataset (data.world)"
   ]
  },
  {
   "cell_type": "code",
   "execution_count": 12,
   "metadata": {},
   "outputs": [],
   "source": [
    "# Loading the dataframe\n",
    "df2=pd.read_csv('text_emotion.csv')"
   ]
  },
  {
   "cell_type": "code",
   "execution_count": 13,
   "metadata": {},
   "outputs": [
    {
     "data": {
      "text/html": [
       "<div>\n",
       "<style scoped>\n",
       "    .dataframe tbody tr th:only-of-type {\n",
       "        vertical-align: middle;\n",
       "    }\n",
       "\n",
       "    .dataframe tbody tr th {\n",
       "        vertical-align: top;\n",
       "    }\n",
       "\n",
       "    .dataframe thead th {\n",
       "        text-align: right;\n",
       "    }\n",
       "</style>\n",
       "<table border=\"1\" class=\"dataframe\">\n",
       "  <thead>\n",
       "    <tr style=\"text-align: right;\">\n",
       "      <th></th>\n",
       "      <th>tweet_id</th>\n",
       "      <th>sentiment</th>\n",
       "      <th>author</th>\n",
       "      <th>content</th>\n",
       "    </tr>\n",
       "  </thead>\n",
       "  <tbody>\n",
       "    <tr>\n",
       "      <th>0</th>\n",
       "      <td>1956967341</td>\n",
       "      <td>empty</td>\n",
       "      <td>xoshayzers</td>\n",
       "      <td>@tiffanylue i know  i was listenin to bad habi...</td>\n",
       "    </tr>\n",
       "    <tr>\n",
       "      <th>1</th>\n",
       "      <td>1956967666</td>\n",
       "      <td>sadness</td>\n",
       "      <td>wannamama</td>\n",
       "      <td>Layin n bed with a headache  ughhhh...waitin o...</td>\n",
       "    </tr>\n",
       "    <tr>\n",
       "      <th>2</th>\n",
       "      <td>1956967696</td>\n",
       "      <td>sadness</td>\n",
       "      <td>coolfunky</td>\n",
       "      <td>Funeral ceremony...gloomy friday...</td>\n",
       "    </tr>\n",
       "    <tr>\n",
       "      <th>3</th>\n",
       "      <td>1956967789</td>\n",
       "      <td>enthusiasm</td>\n",
       "      <td>czareaquino</td>\n",
       "      <td>wants to hang out with friends SOON!</td>\n",
       "    </tr>\n",
       "    <tr>\n",
       "      <th>4</th>\n",
       "      <td>1956968416</td>\n",
       "      <td>neutral</td>\n",
       "      <td>xkilljoyx</td>\n",
       "      <td>@dannycastillo We want to trade with someone w...</td>\n",
       "    </tr>\n",
       "  </tbody>\n",
       "</table>\n",
       "</div>"
      ],
      "text/plain": [
       "     tweet_id   sentiment       author  \\\n",
       "0  1956967341       empty   xoshayzers   \n",
       "1  1956967666     sadness    wannamama   \n",
       "2  1956967696     sadness    coolfunky   \n",
       "3  1956967789  enthusiasm  czareaquino   \n",
       "4  1956968416     neutral    xkilljoyx   \n",
       "\n",
       "                                             content  \n",
       "0  @tiffanylue i know  i was listenin to bad habi...  \n",
       "1  Layin n bed with a headache  ughhhh...waitin o...  \n",
       "2                Funeral ceremony...gloomy friday...  \n",
       "3               wants to hang out with friends SOON!  \n",
       "4  @dannycastillo We want to trade with someone w...  "
      ]
     },
     "execution_count": 13,
     "metadata": {},
     "output_type": "execute_result"
    }
   ],
   "source": [
    "df2.head()"
   ]
  },
  {
   "cell_type": "code",
   "execution_count": 14,
   "metadata": {},
   "outputs": [
    {
     "name": "stdout",
     "output_type": "stream",
     "text": [
      "<class 'pandas.core.frame.DataFrame'>\n",
      "RangeIndex: 40000 entries, 0 to 39999\n",
      "Data columns (total 4 columns):\n",
      " #   Column     Non-Null Count  Dtype \n",
      "---  ------     --------------  ----- \n",
      " 0   tweet_id   40000 non-null  int64 \n",
      " 1   sentiment  40000 non-null  object\n",
      " 2   author     40000 non-null  object\n",
      " 3   content    40000 non-null  object\n",
      "dtypes: int64(1), object(3)\n",
      "memory usage: 1.2+ MB\n"
     ]
    }
   ],
   "source": [
    "df2.info()"
   ]
  },
  {
   "cell_type": "markdown",
   "metadata": {},
   "source": [
    "There are 40000 rows and 4 columns on this dataset."
   ]
  },
  {
   "cell_type": "code",
   "execution_count": 15,
   "metadata": {},
   "outputs": [
    {
     "data": {
      "text/plain": [
       "<AxesSubplot:>"
      ]
     },
     "execution_count": 15,
     "metadata": {},
     "output_type": "execute_result"
    },
    {
     "data": {
      "image/png": "[encoded data removed]",
      "text/plain": [
       "<Figure size 432x288 with 1 Axes>"
      ]
     },
     "metadata": {
      "needs_background": "light"
     },
     "output_type": "display_data"
    }
   ],
   "source": [
    "df2['sentiment'].value_counts().plot(kind='bar')"
   ]
  },
  {
   "cell_type": "markdown",
   "metadata": {},
   "source": [
    "The sentiments 'neutral' and 'worry' have the highest frequency in the data.world dataset."
   ]
  },
  {
   "cell_type": "markdown",
   "metadata": {},
   "source": [
    "### Preprocessing data"
   ]
  },
  {
   "cell_type": "code",
   "execution_count": 16,
   "metadata": {},
   "outputs": [],
   "source": [
    "# As recipient's name is not very useful in our dataset we decide to remove all the words starting with an @\n",
    "def atremove(txt):\n",
    "    quote=' '.join(word for word in txt.split(' ') if not word.startswith('@'))\n",
    "    return quote"
   ]
  },
  {
   "cell_type": "code",
   "execution_count": 17,
   "metadata": {},
   "outputs": [
    {
     "data": {
      "text/plain": [
       "array(['i know  i was listenin to bad habit earlier and i started freakin at his part =[',\n",
       "       'Layin n bed with a headache  ughhhh...waitin on your call...',\n",
       "       'Funeral ceremony...gloomy friday...', ...,\n",
       "       \"Happy Mother's Day to all the mommies out there, be you woman or man as long as you're 'momma' to someone this is your day!\",\n",
       "       'WASSUP BEAUTIFUL!!! FOLLOW ME!!  PEEP OUT MY NEW HIT SINGLES WWW.MYSPACE.COM/IPSOHOT I DEF. WAT U IN THE VIDEO!!',\n",
       "       'bullet train from tokyo    the gf and i have been visiting japan since thursday  vacation/sightseeing    gaijin godzilla'],\n",
       "      dtype=object)"
      ]
     },
     "execution_count": 17,
     "metadata": {},
     "output_type": "execute_result"
    }
   ],
   "source": [
    "df2['content']=df2['content'].apply(lambda x: atremove(x))\n",
    "np.array(df2['content'])"
   ]
  },
  {
   "cell_type": "code",
   "execution_count": 18,
   "metadata": {},
   "outputs": [
    {
     "name": "stdout",
     "output_type": "stream",
     "text": [
      "vocabulary size; 31933\n"
     ]
    },
    {
     "data": {
      "image/png": "[encoded data removed]",
      "text/plain": [
       "<Figure size 1440x576 with 1 Axes>"
      ]
     },
     "metadata": {
      "needs_background": "light"
     },
     "output_type": "display_data"
    }
   ],
   "source": [
    "# Vobabulary analysis\n",
    "corpus=df2['content']\n",
    "targets=df2['sentiment']\n",
    "\n",
    "vec = CountVectorizer(stop_words=stopwords)\n",
    "X = vec.fit_transform(corpus)\n",
    "words = vec.get_feature_names()\n",
    "\n",
    "print(\"vocabulary size; %d\" % len(words) )\n",
    "\n",
    "# Compute rank\n",
    "wsum = np.array(X.sum(0))[0]\n",
    "ix = wsum.argsort()[::-1]\n",
    "wrank = wsum[ix] \n",
    "labels = [words[i] for i in ix]\n",
    "\n",
    "# Sub-sample the data to plot.\n",
    "# take the 20 first + the rest sample with the given step \n",
    "def subsample(x):\n",
    "    return np.hstack((x[:20]))\n",
    "\n",
    "\n",
    "plt.figure(figsize=(20,8))\n",
    "freq = subsample(wrank)\n",
    "r = np.arange(len(freq))\n",
    "plt.bar(r, freq, width=0.7)\n",
    "plt.xticks(r, subsample(labels), rotation=55)\n",
    "plt.xlabel('word rank')\n",
    "plt.ylabel('word frequncy')\n",
    "plt.title(\"Words ordered by rank. Only the 20 first ranks are present\");\n"
   ]
  },
  {
   "cell_type": "markdown",
   "metadata": {},
   "source": [
    "#### Running the pipelines for the second dataset"
   ]
  },
  {
   "cell_type": "code",
   "execution_count": 19,
   "metadata": {},
   "outputs": [
    {
     "name": "stderr",
     "output_type": "stream",
     "text": [
      "/home/caroline09/anaconda3/envs/machlearn/lib/python3.8/site-packages/sklearn/svm/_base.py:976: ConvergenceWarning: Liblinear failed to converge, increase the number of iterations.\n",
      "  warnings.warn(\"Liblinear failed to converge, increase \"\n"
     ]
    },
    {
     "name": "stdout",
     "output_type": "stream",
     "text": [
      "vect-svml\n",
      "              precision    recall  f1-score   support\n",
      "\n",
      "       anger       0.00      0.00      0.00        19\n",
      "     boredom       0.00      0.00      0.00        31\n",
      "       empty       0.03      0.01      0.02       162\n",
      "  enthusiasm       0.03      0.01      0.02       163\n",
      "         fun       0.09      0.07      0.08       338\n",
      "   happiness       0.30      0.29      0.30      1028\n",
      "        hate       0.28      0.21      0.24       268\n",
      "        love       0.36      0.36      0.36       762\n",
      "     neutral       0.33      0.45      0.38      1740\n",
      "      relief       0.12      0.06      0.08       352\n",
      "     sadness       0.27      0.26      0.27      1046\n",
      "    surprise       0.14      0.10      0.12       425\n",
      "       worry       0.32      0.35      0.33      1666\n",
      "\n",
      "    accuracy                           0.29      8000\n",
      "   macro avg       0.17      0.17      0.17      8000\n",
      "weighted avg       0.27      0.29      0.28      8000\n",
      "\n",
      "vect-logit\n"
     ]
    },
    {
     "name": "stderr",
     "output_type": "stream",
     "text": [
      "/home/caroline09/anaconda3/envs/machlearn/lib/python3.8/site-packages/sklearn/metrics/_classification.py:1221: UndefinedMetricWarning: Precision and F-score are ill-defined and being set to 0.0 in labels with no predicted samples. Use `zero_division` parameter to control this behavior.\n",
      "  _warn_prf(average, modifier, msg_start, len(result))\n"
     ]
    },
    {
     "name": "stdout",
     "output_type": "stream",
     "text": [
      "              precision    recall  f1-score   support\n",
      "\n",
      "       anger       0.00      0.00      0.00        19\n",
      "     boredom       0.00      0.00      0.00        31\n",
      "       empty       0.00      0.00      0.00       162\n",
      "  enthusiasm       0.09      0.01      0.01       163\n",
      "         fun       0.08      0.04      0.05       338\n",
      "   happiness       0.33      0.34      0.34      1028\n",
      "        hate       0.38      0.19      0.25       268\n",
      "        love       0.43      0.38      0.40       762\n",
      "     neutral       0.35      0.56      0.43      1740\n",
      "      relief       0.21      0.04      0.07       352\n",
      "     sadness       0.30      0.27      0.29      1046\n",
      "    surprise       0.17      0.07      0.09       425\n",
      "       worry       0.33      0.40      0.36      1666\n",
      "\n",
      "    accuracy                           0.33      8000\n",
      "   macro avg       0.21      0.18      0.18      8000\n",
      "weighted avg       0.30      0.33      0.31      8000\n",
      "\n"
     ]
    },
    {
     "name": "stderr",
     "output_type": "stream",
     "text": [
      "/home/caroline09/anaconda3/envs/machlearn/lib/python3.8/site-packages/sklearn/metrics/_classification.py:1221: UndefinedMetricWarning: Precision is ill-defined and being set to 0.0 in labels with no predicted samples. Use `zero_division` parameter to control this behavior.\n",
      "  _warn_prf(average, modifier, msg_start, len(result))\n"
     ]
    },
    {
     "name": "stdout",
     "output_type": "stream",
     "text": [
      "vect-mult_nb\n"
     ]
    },
    {
     "name": "stderr",
     "output_type": "stream",
     "text": [
      "/home/caroline09/anaconda3/envs/machlearn/lib/python3.8/site-packages/sklearn/metrics/_classification.py:1221: UndefinedMetricWarning: Precision and F-score are ill-defined and being set to 0.0 in labels with no predicted samples. Use `zero_division` parameter to control this behavior.\n",
      "  _warn_prf(average, modifier, msg_start, len(result))\n"
     ]
    },
    {
     "name": "stdout",
     "output_type": "stream",
     "text": [
      "              precision    recall  f1-score   support\n",
      "\n",
      "       anger       0.00      0.00      0.00        19\n",
      "     boredom       0.00      0.00      0.00        31\n",
      "       empty       0.00      0.00      0.00       162\n",
      "  enthusiasm       0.00      0.00      0.00       163\n",
      "         fun       0.00      0.00      0.00       338\n",
      "   happiness       0.32      0.34      0.33      1028\n",
      "        hate       0.42      0.02      0.04       268\n",
      "        love       0.49      0.33      0.39       762\n",
      "     neutral       0.34      0.40      0.37      1740\n",
      "      relief       0.00      0.00      0.00       352\n",
      "     sadness       0.30      0.16      0.21      1046\n",
      "    surprise       0.36      0.01      0.02       425\n",
      "       worry       0.29      0.65      0.40      1666\n",
      "\n",
      "    accuracy                           0.32      8000\n",
      "   macro avg       0.19      0.15      0.13      8000\n",
      "weighted avg       0.29      0.32      0.27      8000\n",
      "\n"
     ]
    },
    {
     "name": "stderr",
     "output_type": "stream",
     "text": [
      "/home/caroline09/anaconda3/envs/machlearn/lib/python3.8/site-packages/sklearn/metrics/_classification.py:1221: UndefinedMetricWarning: Precision is ill-defined and being set to 0.0 in labels with no predicted samples. Use `zero_division` parameter to control this behavior.\n",
      "  _warn_prf(average, modifier, msg_start, len(result))\n"
     ]
    },
    {
     "name": "stdout",
     "output_type": "stream",
     "text": [
      "vect-compl_nb\n",
      "              precision    recall  f1-score   support\n",
      "\n",
      "       anger       0.00      0.00      0.00        19\n",
      "     boredom       0.00      0.00      0.00        31\n",
      "       empty       0.03      0.01      0.02       162\n",
      "  enthusiasm       0.00      0.00      0.00       163\n",
      "         fun       0.06      0.04      0.05       338\n",
      "   happiness       0.27      0.37      0.31      1028\n",
      "        hate       0.27      0.23      0.25       268\n",
      "        love       0.34      0.47      0.39       762\n",
      "     neutral       0.32      0.23      0.27      1740\n",
      "      relief       0.15      0.06      0.08       352\n",
      "     sadness       0.27      0.28      0.28      1046\n",
      "    surprise       0.12      0.07      0.09       425\n",
      "       worry       0.32      0.43      0.37      1666\n",
      "\n",
      "    accuracy                           0.28      8000\n",
      "   macro avg       0.17      0.17      0.16      8000\n",
      "weighted avg       0.26      0.28      0.27      8000\n",
      "\n",
      "vect-bern_nb\n"
     ]
    },
    {
     "name": "stderr",
     "output_type": "stream",
     "text": [
      "/home/caroline09/anaconda3/envs/machlearn/lib/python3.8/site-packages/sklearn/metrics/_classification.py:1221: UndefinedMetricWarning: Precision and F-score are ill-defined and being set to 0.0 in labels with no predicted samples. Use `zero_division` parameter to control this behavior.\n",
      "  _warn_prf(average, modifier, msg_start, len(result))\n"
     ]
    },
    {
     "name": "stdout",
     "output_type": "stream",
     "text": [
      "              precision    recall  f1-score   support\n",
      "\n",
      "       anger       0.00      0.00      0.00        19\n",
      "     boredom       0.00      0.00      0.00        31\n",
      "       empty       0.00      0.00      0.00       162\n",
      "  enthusiasm       0.00      0.00      0.00       163\n",
      "         fun       0.00      0.00      0.00       338\n",
      "   happiness       0.34      0.13      0.19      1028\n",
      "        hate       0.00      0.00      0.00       268\n",
      "        love       0.52      0.11      0.18       762\n",
      "     neutral       0.30      0.68      0.42      1740\n",
      "      relief       0.00      0.00      0.00       352\n",
      "     sadness       0.31      0.04      0.07      1046\n",
      "    surprise       0.00      0.00      0.00       425\n",
      "       worry       0.30      0.60      0.40      1666\n",
      "\n",
      "    accuracy                           0.31      8000\n",
      "   macro avg       0.14      0.12      0.10      8000\n",
      "weighted avg       0.26      0.31      0.23      8000\n",
      "\n"
     ]
    },
    {
     "name": "stderr",
     "output_type": "stream",
     "text": [
      "/home/caroline09/anaconda3/envs/machlearn/lib/python3.8/site-packages/sklearn/metrics/_classification.py:1221: UndefinedMetricWarning: Precision is ill-defined and being set to 0.0 in labels with no predicted samples. Use `zero_division` parameter to control this behavior.\n",
      "  _warn_prf(average, modifier, msg_start, len(result))\n"
     ]
    }
   ],
   "source": [
    "corpus= np.array(df2['content'])\n",
    "targets = np.array(df2['sentiment'])\n",
    "\n",
    "# run base pipes\n",
    "res2 = run_pipes([pipe1, pipe2,pipe3,pipe4,pipe5], splits=1)"
   ]
  },
  {
   "cell_type": "code",
   "execution_count": 20,
   "metadata": {},
   "outputs": [
    {
     "data": {
      "text/html": [
       "<div>\n",
       "<style scoped>\n",
       "    .dataframe tbody tr th:only-of-type {\n",
       "        vertical-align: middle;\n",
       "    }\n",
       "\n",
       "    .dataframe tbody tr th {\n",
       "        vertical-align: top;\n",
       "    }\n",
       "\n",
       "    .dataframe thead th {\n",
       "        text-align: right;\n",
       "    }\n",
       "</style>\n",
       "<table border=\"1\" class=\"dataframe\">\n",
       "  <thead>\n",
       "    <tr style=\"text-align: right;\">\n",
       "      <th></th>\n",
       "      <th>index</th>\n",
       "      <th>time</th>\n",
       "      <th>precision_score</th>\n",
       "      <th>recall_score</th>\n",
       "      <th>f1_score</th>\n",
       "    </tr>\n",
       "  </thead>\n",
       "  <tbody>\n",
       "    <tr>\n",
       "      <th>0</th>\n",
       "      <td>vect-svml</td>\n",
       "      <td>68.45</td>\n",
       "      <td>0.27</td>\n",
       "      <td>0.29</td>\n",
       "      <td>0.28</td>\n",
       "    </tr>\n",
       "    <tr>\n",
       "      <th>1</th>\n",
       "      <td>vect-logit</td>\n",
       "      <td>90.96</td>\n",
       "      <td>0.30</td>\n",
       "      <td>0.33</td>\n",
       "      <td>0.31</td>\n",
       "    </tr>\n",
       "    <tr>\n",
       "      <th>2</th>\n",
       "      <td>vect-mult_nb</td>\n",
       "      <td>2.33</td>\n",
       "      <td>0.29</td>\n",
       "      <td>0.32</td>\n",
       "      <td>0.27</td>\n",
       "    </tr>\n",
       "    <tr>\n",
       "      <th>3</th>\n",
       "      <td>vect-compl_nb</td>\n",
       "      <td>2.29</td>\n",
       "      <td>0.26</td>\n",
       "      <td>0.28</td>\n",
       "      <td>0.27</td>\n",
       "    </tr>\n",
       "    <tr>\n",
       "      <th>4</th>\n",
       "      <td>vect-bern_nb</td>\n",
       "      <td>2.32</td>\n",
       "      <td>0.26</td>\n",
       "      <td>0.31</td>\n",
       "      <td>0.23</td>\n",
       "    </tr>\n",
       "  </tbody>\n",
       "</table>\n",
       "</div>"
      ],
      "text/plain": [
       "           index   time  precision_score  recall_score  f1_score\n",
       "0      vect-svml  68.45             0.27          0.29      0.28\n",
       "1     vect-logit  90.96             0.30          0.33      0.31\n",
       "2   vect-mult_nb   2.33             0.29          0.32      0.27\n",
       "3  vect-compl_nb   2.29             0.26          0.28      0.27\n",
       "4   vect-bern_nb   2.32             0.26          0.31      0.23"
      ]
     },
     "execution_count": 20,
     "metadata": {},
     "output_type": "execute_result"
    }
   ],
   "source": [
    "print_table(res2)"
   ]
  },
  {
   "cell_type": "markdown",
   "metadata": {},
   "source": [
    "The F1 scores are very low for all the classifiers. The reason may be the number of sentiments(13) which is higher than in the Kaggle dataset (6 different emotions only). Therefore there is a higher risk that an item might be misclassified."
   ]
  },
  {
   "cell_type": "markdown",
   "metadata": {},
   "source": [
    "### Can we improve the F1 score if we concatenate the two datasets ?"
   ]
  },
  {
   "cell_type": "code",
   "execution_count": 21,
   "metadata": {},
   "outputs": [],
   "source": [
    "df3=df1.append(df2[['content','sentiment']].rename(columns={\"content\": \"Text\", \"sentiment\": \"Emotion\"}),ignore_index=True)"
   ]
  },
  {
   "cell_type": "code",
   "execution_count": 22,
   "metadata": {},
   "outputs": [
    {
     "data": {
      "text/html": [
       "<div>\n",
       "<style scoped>\n",
       "    .dataframe tbody tr th:only-of-type {\n",
       "        vertical-align: middle;\n",
       "    }\n",
       "\n",
       "    .dataframe tbody tr th {\n",
       "        vertical-align: top;\n",
       "    }\n",
       "\n",
       "    .dataframe thead th {\n",
       "        text-align: right;\n",
       "    }\n",
       "</style>\n",
       "<table border=\"1\" class=\"dataframe\">\n",
       "  <thead>\n",
       "    <tr style=\"text-align: right;\">\n",
       "      <th></th>\n",
       "      <th>Text</th>\n",
       "      <th>Emotion</th>\n",
       "    </tr>\n",
       "  </thead>\n",
       "  <tbody>\n",
       "    <tr>\n",
       "      <th>0</th>\n",
       "      <td>i didnt feel humiliated</td>\n",
       "      <td>sadness</td>\n",
       "    </tr>\n",
       "    <tr>\n",
       "      <th>1</th>\n",
       "      <td>i can go from feeling so hopeless to so damned...</td>\n",
       "      <td>sadness</td>\n",
       "    </tr>\n",
       "    <tr>\n",
       "      <th>2</th>\n",
       "      <td>im grabbing a minute to post i feel greedy wrong</td>\n",
       "      <td>anger</td>\n",
       "    </tr>\n",
       "    <tr>\n",
       "      <th>3</th>\n",
       "      <td>i am ever feeling nostalgic about the fireplac...</td>\n",
       "      <td>love</td>\n",
       "    </tr>\n",
       "    <tr>\n",
       "      <th>4</th>\n",
       "      <td>i am feeling grouchy</td>\n",
       "      <td>anger</td>\n",
       "    </tr>\n",
       "    <tr>\n",
       "      <th>...</th>\n",
       "      <td>...</td>\n",
       "      <td>...</td>\n",
       "    </tr>\n",
       "    <tr>\n",
       "      <th>61454</th>\n",
       "      <td></td>\n",
       "      <td>neutral</td>\n",
       "    </tr>\n",
       "    <tr>\n",
       "      <th>61455</th>\n",
       "      <td>Happy Mothers Day  All my love</td>\n",
       "      <td>love</td>\n",
       "    </tr>\n",
       "    <tr>\n",
       "      <th>61456</th>\n",
       "      <td>Happy Mother's Day to all the mommies out ther...</td>\n",
       "      <td>love</td>\n",
       "    </tr>\n",
       "    <tr>\n",
       "      <th>61457</th>\n",
       "      <td>WASSUP BEAUTIFUL!!! FOLLOW ME!!  PEEP OUT MY N...</td>\n",
       "      <td>happy</td>\n",
       "    </tr>\n",
       "    <tr>\n",
       "      <th>61458</th>\n",
       "      <td>bullet train from tokyo    the gf and i have b...</td>\n",
       "      <td>love</td>\n",
       "    </tr>\n",
       "  </tbody>\n",
       "</table>\n",
       "<p>61459 rows × 2 columns</p>\n",
       "</div>"
      ],
      "text/plain": [
       "                                                    Text  Emotion\n",
       "0                                i didnt feel humiliated  sadness\n",
       "1      i can go from feeling so hopeless to so damned...  sadness\n",
       "2       im grabbing a minute to post i feel greedy wrong    anger\n",
       "3      i am ever feeling nostalgic about the fireplac...     love\n",
       "4                                   i am feeling grouchy    anger\n",
       "...                                                  ...      ...\n",
       "61454                                                     neutral\n",
       "61455                     Happy Mothers Day  All my love     love\n",
       "61456  Happy Mother's Day to all the mommies out ther...     love\n",
       "61457  WASSUP BEAUTIFUL!!! FOLLOW ME!!  PEEP OUT MY N...    happy\n",
       "61458  bullet train from tokyo    the gf and i have b...     love\n",
       "\n",
       "[61459 rows x 2 columns]"
      ]
     },
     "execution_count": 22,
     "metadata": {},
     "output_type": "execute_result"
    }
   ],
   "source": [
    "# It is necessary to merge all the rows with 'happiness' together with all the rows with 'happy'\n",
    "df3.loc[(df3.Emotion == 'happiness'),'Emotion']='happy'\n",
    "df3"
   ]
  },
  {
   "cell_type": "code",
   "execution_count": 23,
   "metadata": {},
   "outputs": [
    {
     "data": {
      "text/plain": [
       "<AxesSubplot:>"
      ]
     },
     "execution_count": 23,
     "metadata": {},
     "output_type": "execute_result"
    },
    {
     "data": {
      "image/png": "[encoded data removed]",
      "text/plain": [
       "<Figure size 432x288 with 1 Axes>"
      ]
     },
     "metadata": {
      "needs_background": "light"
     },
     "output_type": "display_data"
    }
   ],
   "source": [
    "df3['Emotion'].value_counts().plot(kind='bar')"
   ]
  },
  {
   "cell_type": "markdown",
   "metadata": {},
   "source": [
    "Happy, sadness, neutral and worry are the most frequent emotions in this combined dataset."
   ]
  },
  {
   "cell_type": "code",
   "execution_count": 24,
   "metadata": {},
   "outputs": [
    {
     "name": "stderr",
     "output_type": "stream",
     "text": [
      "/home/caroline09/anaconda3/envs/machlearn/lib/python3.8/site-packages/sklearn/svm/_base.py:976: ConvergenceWarning: Liblinear failed to converge, increase the number of iterations.\n",
      "  warnings.warn(\"Liblinear failed to converge, increase \"\n"
     ]
    },
    {
     "name": "stdout",
     "output_type": "stream",
     "text": [
      "vect-svml\n",
      "              precision    recall  f1-score   support\n",
      "\n",
      "       anger       0.80      0.81      0.80       623\n",
      "     boredom       0.00      0.00      0.00        34\n",
      "       empty       0.06      0.04      0.05       160\n",
      "  enthusiasm       0.03      0.01      0.02       160\n",
      "        fear       0.85      0.81      0.83       531\n",
      "         fun       0.11      0.07      0.09       382\n",
      "       happy       0.62      0.63      0.62      2478\n",
      "        hate       0.25      0.19      0.22       270\n",
      "        love       0.47      0.45      0.46      1124\n",
      "     neutral       0.32      0.45      0.37      1658\n",
      "      relief       0.05      0.03      0.04       326\n",
      "     sadness       0.60      0.60      0.60      2207\n",
      "    surprise       0.32      0.26      0.28       605\n",
      "       worry       0.31      0.30      0.30      1734\n",
      "\n",
      "    accuracy                           0.48     12292\n",
      "   macro avg       0.34      0.33      0.33     12292\n",
      "weighted avg       0.47      0.48      0.47     12292\n",
      "\n",
      "vect-logit\n",
      "              precision    recall  f1-score   support\n",
      "\n",
      "       anger       0.86      0.78      0.82       623\n",
      "     boredom       0.14      0.03      0.05        34\n",
      "       empty       0.00      0.00      0.00       160\n",
      "  enthusiasm       0.00      0.00      0.00       160\n",
      "        fear       0.88      0.80      0.84       531\n",
      "         fun       0.14      0.05      0.07       382\n",
      "       happy       0.63      0.67      0.65      2478\n",
      "        hate       0.39      0.19      0.26       270\n",
      "        love       0.56      0.47      0.51      1124\n",
      "     neutral       0.33      0.57      0.42      1658\n",
      "      relief       0.09      0.02      0.04       326\n",
      "     sadness       0.62      0.62      0.62      2207\n",
      "    surprise       0.40      0.24      0.30       605\n",
      "       worry       0.34      0.36      0.35      1734\n",
      "\n",
      "    accuracy                           0.51     12292\n",
      "   macro avg       0.38      0.34      0.35     12292\n",
      "weighted avg       0.50      0.51      0.50     12292\n",
      "\n",
      "vect-mult_nb\n"
     ]
    },
    {
     "name": "stderr",
     "output_type": "stream",
     "text": [
      "/home/caroline09/anaconda3/envs/machlearn/lib/python3.8/site-packages/sklearn/metrics/_classification.py:1221: UndefinedMetricWarning: Precision and F-score are ill-defined and being set to 0.0 in labels with no predicted samples. Use `zero_division` parameter to control this behavior.\n",
      "  _warn_prf(average, modifier, msg_start, len(result))\n"
     ]
    },
    {
     "name": "stdout",
     "output_type": "stream",
     "text": [
      "              precision    recall  f1-score   support\n",
      "\n",
      "       anger       0.89      0.40      0.55       623\n",
      "     boredom       0.00      0.00      0.00        34\n",
      "       empty       0.00      0.00      0.00       160\n",
      "  enthusiasm       0.00      0.00      0.00       160\n",
      "        fear       0.87      0.34      0.49       531\n",
      "         fun       0.00      0.00      0.00       382\n",
      "       happy       0.45      0.73      0.56      2478\n",
      "        hate       0.25      0.00      0.01       270\n",
      "        love       0.56      0.29      0.38      1124\n",
      "     neutral       0.30      0.28      0.29      1658\n",
      "      relief       0.00      0.00      0.00       326\n",
      "     sadness       0.45      0.69      0.55      2207\n",
      "    surprise       0.67      0.07      0.13       605\n",
      "       worry       0.32      0.40      0.35      1734\n",
      "\n",
      "    accuracy                           0.43     12292\n",
      "   macro avg       0.34      0.23      0.24     12292\n",
      "weighted avg       0.43      0.43      0.39     12292\n",
      "\n"
     ]
    },
    {
     "name": "stderr",
     "output_type": "stream",
     "text": [
      "/home/caroline09/anaconda3/envs/machlearn/lib/python3.8/site-packages/sklearn/metrics/_classification.py:1221: UndefinedMetricWarning: Precision is ill-defined and being set to 0.0 in labels with no predicted samples. Use `zero_division` parameter to control this behavior.\n",
      "  _warn_prf(average, modifier, msg_start, len(result))\n"
     ]
    },
    {
     "name": "stdout",
     "output_type": "stream",
     "text": [
      "vect-compl_nb\n",
      "              precision    recall  f1-score   support\n",
      "\n",
      "       anger       0.63      0.80      0.70       623\n",
      "     boredom       0.00      0.00      0.00        34\n",
      "       empty       0.03      0.01      0.01       160\n",
      "  enthusiasm       0.00      0.00      0.00       160\n",
      "        fear       0.71      0.85      0.78       531\n",
      "         fun       0.11      0.05      0.07       382\n",
      "       happy       0.60      0.63      0.62      2478\n",
      "        hate       0.24      0.14      0.17       270\n",
      "        love       0.44      0.49      0.47      1124\n",
      "     neutral       0.29      0.29      0.29      1658\n",
      "      relief       0.04      0.01      0.01       326\n",
      "     sadness       0.60      0.63      0.62      2207\n",
      "    surprise       0.40      0.22      0.29       605\n",
      "       worry       0.30      0.39      0.34      1734\n",
      "\n",
      "    accuracy                           0.47     12292\n",
      "   macro avg       0.31      0.32      0.31     12292\n",
      "weighted avg       0.44      0.47      0.45     12292\n",
      "\n",
      "vect-bern_nb\n"
     ]
    },
    {
     "name": "stderr",
     "output_type": "stream",
     "text": [
      "/home/caroline09/anaconda3/envs/machlearn/lib/python3.8/site-packages/sklearn/metrics/_classification.py:1221: UndefinedMetricWarning: Precision and F-score are ill-defined and being set to 0.0 in labels with no predicted samples. Use `zero_division` parameter to control this behavior.\n",
      "  _warn_prf(average, modifier, msg_start, len(result))\n"
     ]
    },
    {
     "name": "stdout",
     "output_type": "stream",
     "text": [
      "              precision    recall  f1-score   support\n",
      "\n",
      "       anger       0.86      0.03      0.06       623\n",
      "     boredom       0.00      0.00      0.00        34\n",
      "       empty       0.00      0.00      0.00       160\n",
      "  enthusiasm       0.00      0.00      0.00       160\n",
      "        fear       0.86      0.01      0.02       531\n",
      "         fun       0.00      0.00      0.00       382\n",
      "       happy       0.46      0.71      0.56      2478\n",
      "        hate       0.00      0.00      0.00       270\n",
      "        love       0.60      0.09      0.15      1124\n",
      "     neutral       0.31      0.54      0.39      1658\n",
      "      relief       0.00      0.00      0.00       326\n",
      "     sadness       0.41      0.70      0.52      2207\n",
      "    surprise       1.00      0.00      0.00       605\n",
      "       worry       0.34      0.31      0.32      1734\n",
      "\n",
      "    accuracy                           0.40     12292\n",
      "   macro avg       0.35      0.17      0.14     12292\n",
      "weighted avg       0.44      0.40      0.32     12292\n",
      "\n"
     ]
    },
    {
     "name": "stderr",
     "output_type": "stream",
     "text": [
      "/home/caroline09/anaconda3/envs/machlearn/lib/python3.8/site-packages/sklearn/metrics/_classification.py:1221: UndefinedMetricWarning: Precision is ill-defined and being set to 0.0 in labels with no predicted samples. Use `zero_division` parameter to control this behavior.\n",
      "  _warn_prf(average, modifier, msg_start, len(result))\n"
     ]
    }
   ],
   "source": [
    "corpus= np.array(df3['Text'])\n",
    "targets = np.array(df3['Emotion'])\n",
    "\n",
    "\n",
    "# run base pipes\n",
    "res3 = run_pipes([pipe1, pipe2,pipe3,pipe4,pipe5], splits=1)"
   ]
  },
  {
   "cell_type": "code",
   "execution_count": 25,
   "metadata": {},
   "outputs": [
    {
     "data": {
      "text/html": [
       "<div>\n",
       "<style scoped>\n",
       "    .dataframe tbody tr th:only-of-type {\n",
       "        vertical-align: middle;\n",
       "    }\n",
       "\n",
       "    .dataframe tbody tr th {\n",
       "        vertical-align: top;\n",
       "    }\n",
       "\n",
       "    .dataframe thead th {\n",
       "        text-align: right;\n",
       "    }\n",
       "</style>\n",
       "<table border=\"1\" class=\"dataframe\">\n",
       "  <thead>\n",
       "    <tr style=\"text-align: right;\">\n",
       "      <th></th>\n",
       "      <th>index</th>\n",
       "      <th>time</th>\n",
       "      <th>precision_score</th>\n",
       "      <th>recall_score</th>\n",
       "      <th>f1_score</th>\n",
       "    </tr>\n",
       "  </thead>\n",
       "  <tbody>\n",
       "    <tr>\n",
       "      <th>0</th>\n",
       "      <td>vect-svml</td>\n",
       "      <td>93.74</td>\n",
       "      <td>0.47</td>\n",
       "      <td>0.48</td>\n",
       "      <td>0.47</td>\n",
       "    </tr>\n",
       "    <tr>\n",
       "      <th>1</th>\n",
       "      <td>vect-logit</td>\n",
       "      <td>147.36</td>\n",
       "      <td>0.50</td>\n",
       "      <td>0.51</td>\n",
       "      <td>0.50</td>\n",
       "    </tr>\n",
       "    <tr>\n",
       "      <th>2</th>\n",
       "      <td>vect-mult_nb</td>\n",
       "      <td>3.90</td>\n",
       "      <td>0.43</td>\n",
       "      <td>0.43</td>\n",
       "      <td>0.39</td>\n",
       "    </tr>\n",
       "    <tr>\n",
       "      <th>3</th>\n",
       "      <td>vect-compl_nb</td>\n",
       "      <td>3.97</td>\n",
       "      <td>0.44</td>\n",
       "      <td>0.47</td>\n",
       "      <td>0.45</td>\n",
       "    </tr>\n",
       "    <tr>\n",
       "      <th>4</th>\n",
       "      <td>vect-bern_nb</td>\n",
       "      <td>4.02</td>\n",
       "      <td>0.44</td>\n",
       "      <td>0.40</td>\n",
       "      <td>0.32</td>\n",
       "    </tr>\n",
       "  </tbody>\n",
       "</table>\n",
       "</div>"
      ],
      "text/plain": [
       "           index    time  precision_score  recall_score  f1_score\n",
       "0      vect-svml   93.74             0.47          0.48      0.47\n",
       "1     vect-logit  147.36             0.50          0.51      0.50\n",
       "2   vect-mult_nb    3.90             0.43          0.43      0.39\n",
       "3  vect-compl_nb    3.97             0.44          0.47      0.45\n",
       "4   vect-bern_nb    4.02             0.44          0.40      0.32"
      ]
     },
     "execution_count": 25,
     "metadata": {},
     "output_type": "execute_result"
    }
   ],
   "source": [
    "print_table(res3)"
   ]
  },
  {
   "cell_type": "markdown",
   "metadata": {},
   "source": [
    "The F1 scores seems to have improved compared to the second dataset only but the scores are still not very high compared to the first dataset."
   ]
  },
  {
   "cell_type": "markdown",
   "metadata": {},
   "source": [
    "Now let's look at the SentimentalWheel_Preprocessed notebook to see if lemmatizing has a huge impact on the results."
   ]
  }
 ],
 "metadata": {
  "kernelspec": {
   "display_name": "Python 3",
   "language": "python",
   "name": "python3"
  },
  "language_info": {
   "codemirror_mode": {
    "name": "ipython",
    "version": 3
   },
   "file_extension": ".py",
   "mimetype": "text/x-python",
   "name": "python",
   "nbconvert_exporter": "python",
   "pygments_lexer": "ipython3",
   "version": "3.8.5"
  }
 },
 "nbformat": 4,
 "nbformat_minor": 4
}
