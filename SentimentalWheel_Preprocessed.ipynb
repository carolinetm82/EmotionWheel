{
 "cells": [
  {
   "cell_type": "markdown",
   "metadata": {},
   "source": [
    "### Introduction "
   ]
  },
  {
   "cell_type": "markdown",
   "metadata": {},
   "source": [
    "Imagine you want to know what is happening behind your computer screen, who are your most active contacts and their personality. For this purpose, you will analyze their stories and try to extract their emotions from their written sentences.\n",
    "\n",
    "We will develop a machine learning model that can classify the sentences according to their principal emotion.\n",
    "\n",
    "We will work with two datasets :\n",
    "- one from Kaggle (Emotion_final.csv)\n",
    "- one from data.world (text_emotion.csv)"
   ]
  },
  {
   "cell_type": "code",
   "execution_count": 1,
   "metadata": {},
   "outputs": [],
   "source": [
    "# import some librairies\n",
    "from time import time\n",
    "from collections import defaultdict\n",
    "\n",
    "import numpy as np\n",
    "import pandas as pd\n",
    "import string\n",
    "import matplotlib.pyplot as plt\n",
    "%matplotlib inline\n",
    "\n",
    "from sklearn.feature_extraction.text import CountVectorizer, TfidfVectorizer, TfidfTransformer\n",
    "from sklearn.metrics import f1_score,recall_score,precision_score,accuracy_score\n",
    "from sklearn.model_selection import ShuffleSplit\n",
    "from sklearn.pipeline import Pipeline, FeatureUnion\n",
    "from sklearn.linear_model import SGDClassifier, LogisticRegression, LogisticRegressionCV\n",
    "from sklearn.svm import SVC, LinearSVC\n",
    "from sklearn.naive_bayes import MultinomialNB, CategoricalNB, ComplementNB, BernoulliNB\n",
    "from sklearn.decomposition import FastICA, KernelPCA, TruncatedSVD, SparsePCA, NMF, FactorAnalysis, LatentDirichletAllocation\n",
    "import nltk\n",
    "\n",
    "from sklearn.metrics import plot_confusion_matrix\n",
    "from sklearn.metrics import classification_report"
   ]
  },
  {
   "cell_type": "markdown",
   "metadata": {},
   "source": [
    "### I . Analysis and classification on the first dataset"
   ]
  },
  {
   "cell_type": "code",
   "execution_count": 2,
   "metadata": {},
   "outputs": [],
   "source": [
    "# Kaggle data\n",
    "df1=pd.read_csv('Emotion_final.csv')"
   ]
  },
  {
   "cell_type": "code",
   "execution_count": 3,
   "metadata": {},
   "outputs": [
    {
     "data": {
      "text/html": [
       "<div>\n",
       "<style scoped>\n",
       "    .dataframe tbody tr th:only-of-type {\n",
       "        vertical-align: middle;\n",
       "    }\n",
       "\n",
       "    .dataframe tbody tr th {\n",
       "        vertical-align: top;\n",
       "    }\n",
       "\n",
       "    .dataframe thead th {\n",
       "        text-align: right;\n",
       "    }\n",
       "</style>\n",
       "<table border=\"1\" class=\"dataframe\">\n",
       "  <thead>\n",
       "    <tr style=\"text-align: right;\">\n",
       "      <th></th>\n",
       "      <th>Text</th>\n",
       "      <th>Emotion</th>\n",
       "    </tr>\n",
       "  </thead>\n",
       "  <tbody>\n",
       "    <tr>\n",
       "      <th>0</th>\n",
       "      <td>i didnt feel humiliated</td>\n",
       "      <td>sadness</td>\n",
       "    </tr>\n",
       "    <tr>\n",
       "      <th>1</th>\n",
       "      <td>i can go from feeling so hopeless to so damned...</td>\n",
       "      <td>sadness</td>\n",
       "    </tr>\n",
       "    <tr>\n",
       "      <th>2</th>\n",
       "      <td>im grabbing a minute to post i feel greedy wrong</td>\n",
       "      <td>anger</td>\n",
       "    </tr>\n",
       "    <tr>\n",
       "      <th>3</th>\n",
       "      <td>i am ever feeling nostalgic about the fireplac...</td>\n",
       "      <td>love</td>\n",
       "    </tr>\n",
       "    <tr>\n",
       "      <th>4</th>\n",
       "      <td>i am feeling grouchy</td>\n",
       "      <td>anger</td>\n",
       "    </tr>\n",
       "  </tbody>\n",
       "</table>\n",
       "</div>"
      ],
      "text/plain": [
       "                                                Text  Emotion\n",
       "0                            i didnt feel humiliated  sadness\n",
       "1  i can go from feeling so hopeless to so damned...  sadness\n",
       "2   im grabbing a minute to post i feel greedy wrong    anger\n",
       "3  i am ever feeling nostalgic about the fireplac...     love\n",
       "4                               i am feeling grouchy    anger"
      ]
     },
     "execution_count": 3,
     "metadata": {},
     "output_type": "execute_result"
    }
   ],
   "source": [
    "df1.head()"
   ]
  },
  {
   "cell_type": "code",
   "execution_count": 4,
   "metadata": {
    "scrolled": false
   },
   "outputs": [
    {
     "name": "stdout",
     "output_type": "stream",
     "text": [
      "<class 'pandas.core.frame.DataFrame'>\n",
      "RangeIndex: 21459 entries, 0 to 21458\n",
      "Data columns (total 2 columns):\n",
      " #   Column   Non-Null Count  Dtype \n",
      "---  ------   --------------  ----- \n",
      " 0   Text     21459 non-null  object\n",
      " 1   Emotion  21459 non-null  object\n",
      "dtypes: object(2)\n",
      "memory usage: 335.4+ KB\n"
     ]
    }
   ],
   "source": [
    "df1.info()"
   ]
  },
  {
   "cell_type": "markdown",
   "metadata": {},
   "source": [
    "As we can see above, we have 21459 non-null rows and 2 columns in the Kaggle dataset"
   ]
  },
  {
   "cell_type": "code",
   "execution_count": 5,
   "metadata": {
    "scrolled": false
   },
   "outputs": [
    {
     "data": {
      "text/plain": [
       "<AxesSubplot:>"
      ]
     },
     "execution_count": 5,
     "metadata": {},
     "output_type": "execute_result"
    },
    {
     "data": {
      "image/png": "[encoded data removed]",
      "text/plain": [
       "<Figure size 432x288 with 1 Axes>"
      ]
     },
     "metadata": {
      "needs_background": "light"
     },
     "output_type": "display_data"
    }
   ],
   "source": [
    "df1['Emotion'].value_counts().plot(kind='bar')"
   ]
  },
  {
   "cell_type": "markdown",
   "metadata": {},
   "source": [
    "The \"happy\" and \"sadness\" emotions are the two main emotions that stand out."
   ]
  },
  {
   "cell_type": "markdown",
   "metadata": {},
   "source": [
    "### Preprocessing data"
   ]
  },
  {
   "cell_type": "markdown",
   "metadata": {},
   "source": [
    "#### Stop words removal"
   ]
  },
  {
   "cell_type": "markdown",
   "metadata": {},
   "source": [
    "We will suppress words that do not have any semantic or sentimental value/weight in a sentence such as pronouns or auxiliary verbs. We can also remove punctuations."
   ]
  },
  {
   "cell_type": "code",
   "execution_count": 6,
   "metadata": {},
   "outputs": [],
   "source": [
    "stopwords = set(nltk.corpus.stopwords.words(\"english\"))"
   ]
  },
  {
   "cell_type": "code",
   "execution_count": 7,
   "metadata": {},
   "outputs": [],
   "source": [
    "exclude = set(string.punctuation)\n",
    "stopwords=stopwords.union(exclude) #we add the punctuation to the previous stop words list"
   ]
  },
  {
   "cell_type": "markdown",
   "metadata": {},
   "source": [
    "#### Lemmatization"
   ]
  },
  {
   "cell_type": "markdown",
   "metadata": {},
   "source": [
    "Lemmatization is the process of converting a word to its base form. For example, it would identify the base form of 'sleeping' to 'sleep'. "
   ]
  },
  {
   "cell_type": "code",
   "execution_count": 8,
   "metadata": {},
   "outputs": [
    {
     "data": {
      "text/plain": [
       "array(['i didnt feel humiliate',\n",
       "       'i can go from feel so hopeless to so damn hopeful just from be around someone who care and be awake',\n",
       "       'im grab a minute to post i feel greedy wrong', ...,\n",
       "       'vincent be irritate but not dismay',\n",
       "       'kendall-hume turn back to face the dismay coup',\n",
       "       'i be dismay , but not surpris'], dtype=object)"
      ]
     },
     "execution_count": 8,
     "metadata": {},
     "output_type": "execute_result"
    }
   ],
   "source": [
    "from nltk import word_tokenize          \n",
    "from nltk.stem import WordNetLemmatizer\n",
    "#nltk.download('wordnet')\n",
    "\n",
    "\n",
    "# let's create a function which can do the lemmatization\n",
    "lemma = WordNetLemmatizer()\n",
    "def lemmatize(sent):\n",
    "    tokens=word_tokenize(sent.lower())\n",
    "    tokens=[lemma.lemmatize(lemma.lemmatize(lemma.lemmatize(w,'v'),'n'),'a') for w in tokens]\n",
    "    return ' '.join(tokens)\n",
    "\n",
    "df1['Text']=df1['Text'].apply(lambda sent: lemmatize(sent))\n",
    "np.array(df1['Text'])"
   ]
  },
  {
   "cell_type": "markdown",
   "metadata": {},
   "source": [
    "#### Counting the words after the preprocessing data"
   ]
  },
  {
   "cell_type": "code",
   "execution_count": 9,
   "metadata": {},
   "outputs": [
    {
     "name": "stdout",
     "output_type": "stream",
     "text": [
      "vocabulary size : 14384\n"
     ]
    },
    {
     "data": {
      "image/png": "[encoded data removed]",
      "text/plain": [
       "<Figure size 1440x576 with 1 Axes>"
      ]
     },
     "metadata": {
      "needs_background": "light"
     },
     "output_type": "display_data"
    }
   ],
   "source": [
    "# Remind which the corpus and the targets are\n",
    "corpus= np.array(df1['Text'])\n",
    "targets = np.array(df1['Emotion'])\n",
    "\n",
    "\n",
    "\n",
    "# Vobabulary analysis\n",
    "vec = CountVectorizer(stop_words=stopwords)\n",
    "X = vec.fit_transform(corpus)\n",
    "words = vec.get_feature_names()\n",
    "\n",
    "print(\"vocabulary size : %d\" % len(words) )\n",
    "\n",
    "# Compute rank\n",
    "wsum = np.array(X.sum(0))[0]\n",
    "ix = wsum.argsort()[::-1]\n",
    "wrank = wsum[ix] \n",
    "labels = [words[i] for i in ix]\n",
    "\n",
    "# Sub-sample the data to plot.\n",
    "# take the 20 first\n",
    "def subsample(x):\n",
    "    return np.hstack(x[:20])\n",
    "\n",
    "\n",
    "plt.figure(figsize=(20,8))\n",
    "freq = subsample(wrank)\n",
    "r = np.arange(len(freq))\n",
    "plt.bar(r, freq, width=0.7)\n",
    "plt.xticks(r, subsample(labels), rotation=55)\n",
    "plt.xlabel('word rank')\n",
    "plt.ylabel('word frequency')\n",
    "plt.title(\"Words ordered by rank. Only the first 20 ranks are displayed\");"
   ]
  },
  {
   "cell_type": "markdown",
   "metadata": {},
   "source": [
    "#### Creating the pipelines "
   ]
  },
  {
   "cell_type": "markdown",
   "metadata": {},
   "source": [
    "A pipeline is the process of tying together different pieces of the machine learning process.Each stage of a pipeline is fed data processed from its preceding stage. The output of a processing unit is supplied as the input to the next step. The data flows through the pipeline just as water flows in a pipe. \n",
    "Here we are going to use 5 differents classifiers with CountVectorizer."
   ]
  },
  {
   "cell_type": "code",
   "execution_count": 10,
   "metadata": {},
   "outputs": [],
   "source": [
    "# Linear Support Vector Machines\n",
    "pipe1 = Pipeline([\n",
    "    ('vect', CountVectorizer(stop_words=stopwords)),\n",
    "    ('svml', LinearSVC()),\n",
    "])\n",
    "\n",
    "# Logistic Regression\n",
    "pipe2 = Pipeline([\n",
    "    ('vect', CountVectorizer(stop_words=stopwords)),\n",
    "    ('logit', LogisticRegression(max_iter=1000)),\n",
    "])\n",
    "\n",
    "# Multinomial Naive Bayes\n",
    "pipe3 = Pipeline([\n",
    "    ('vect', CountVectorizer(stop_words=stopwords)),\n",
    "    ('mult_nb', MultinomialNB()),\n",
    "])\n",
    "\n",
    "# Complement Naive Bayes classifier \n",
    "pipe4 = Pipeline([\n",
    "    ('vect', CountVectorizer(stop_words=stopwords)),\n",
    "    ('compl_nb', ComplementNB()),\n",
    "])\n",
    "\n",
    "# Naive Bayes classifier for multivariate Bernoulli models\n",
    "pipe5 = Pipeline([\n",
    "    ('vect', CountVectorizer(stop_words=stopwords)),\n",
    "    ('bern_nb', BernoulliNB()),\n",
    "])"
   ]
  },
  {
   "cell_type": "code",
   "execution_count": 11,
   "metadata": {},
   "outputs": [],
   "source": [
    "# We create a function capable of training and testing our dataset with each classifier\n",
    "\n",
    "def run_pipes(pipes, splits=10, test_size=0.2, seed=42):  \n",
    "    res = defaultdict(list)\n",
    "    spliter = ShuffleSplit(n_splits=splits, test_size=test_size, random_state=seed)\n",
    "    for idx_train, idx_test in spliter.split(corpus):\n",
    "        for pipe in pipes:\n",
    "            # name of the model\n",
    "            name = \"-\".join([x[0] for x in pipe.steps])\n",
    "            \n",
    "            # extract datasets\n",
    "            X_train = corpus[idx_train]\n",
    "            X_test = corpus[idx_test]\n",
    "            y_train = targets[idx_train]\n",
    "            y_test = targets[idx_test]\n",
    "            \n",
    "            # Learn\n",
    "            start = time()\n",
    "            pipe.fit(X_train, y_train)\n",
    "            fit_time = time() - start\n",
    "            \n",
    "            # predict and save results\n",
    "            y = pipe.predict(X_test)\n",
    "            print(name)\n",
    "            print(classification_report(y_test, y))\n",
    "            res[name].append([\n",
    "                fit_time,\n",
    "                precision_score(y_test, y,average='weighted'),\n",
    "                recall_score(y_test, y,average='weighted'),\n",
    "                f1_score(y_test, y,average='weighted'),\n",
    "            \n",
    "            ])\n",
    "            \n",
    "    return res\n",
    "\n",
    "def print_table(res):\n",
    "    # Compute mean and std\n",
    "    final = {}\n",
    "    for model in res:\n",
    "        arr = np.array(res[model])\n",
    "        final[model] = {\n",
    "            \"time\" : arr[:, 0][0].round(2),\n",
    "            \"precision_score\": arr[:,1][0].round(2),\n",
    "            \"recall_score\":arr[:, 2][0].round(2),\n",
    "            \"f1_score\":arr[:, 3][0].round(2),\n",
    "        }\n",
    "\n",
    "    df = pd.DataFrame.from_dict(final, orient=\"index\").reset_index()\n",
    "    return df\n"
   ]
  },
  {
   "cell_type": "code",
   "execution_count": 12,
   "metadata": {},
   "outputs": [
    {
     "name": "stdout",
     "output_type": "stream",
     "text": [
      "vect-svml\n",
      "              precision    recall  f1-score   support\n",
      "\n",
      "       anger       0.88      0.85      0.87       617\n",
      "        fear       0.83      0.82      0.83       531\n",
      "       happy       0.89      0.91      0.90      1381\n",
      "        love       0.75      0.71      0.73       318\n",
      "     sadness       0.90      0.91      0.91      1277\n",
      "    surprise       0.68      0.73      0.70       168\n",
      "\n",
      "    accuracy                           0.87      4292\n",
      "   macro avg       0.82      0.82      0.82      4292\n",
      "weighted avg       0.87      0.87      0.87      4292\n",
      "\n",
      "vect-logit\n",
      "              precision    recall  f1-score   support\n",
      "\n",
      "       anger       0.90      0.84      0.87       617\n",
      "        fear       0.85      0.84      0.84       531\n",
      "       happy       0.89      0.92      0.90      1381\n",
      "        love       0.77      0.70      0.73       318\n",
      "     sadness       0.90      0.92      0.91      1277\n",
      "    surprise       0.73      0.76      0.74       168\n",
      "\n",
      "    accuracy                           0.87      4292\n",
      "   macro avg       0.84      0.83      0.83      4292\n",
      "weighted avg       0.87      0.87      0.87      4292\n",
      "\n",
      "vect-mult_nb\n",
      "              precision    recall  f1-score   support\n",
      "\n",
      "       anger       0.91      0.66      0.76       617\n",
      "        fear       0.84      0.63      0.72       531\n",
      "       happy       0.75      0.94      0.83      1381\n",
      "        love       0.88      0.29      0.43       318\n",
      "     sadness       0.75      0.93      0.83      1277\n",
      "    surprise       0.96      0.13      0.23       168\n",
      "\n",
      "    accuracy                           0.78      4292\n",
      "   macro avg       0.85      0.60      0.63      4292\n",
      "weighted avg       0.80      0.78      0.75      4292\n",
      "\n",
      "vect-compl_nb\n",
      "              precision    recall  f1-score   support\n",
      "\n",
      "       anger       0.90      0.85      0.87       617\n",
      "        fear       0.82      0.85      0.84       531\n",
      "       happy       0.88      0.90      0.89      1381\n",
      "        love       0.81      0.69      0.75       318\n",
      "     sadness       0.89      0.92      0.91      1277\n",
      "    surprise       0.72      0.69      0.71       168\n",
      "\n",
      "    accuracy                           0.87      4292\n",
      "   macro avg       0.84      0.82      0.83      4292\n",
      "weighted avg       0.87      0.87      0.87      4292\n",
      "\n",
      "vect-bern_nb\n",
      "              precision    recall  f1-score   support\n",
      "\n",
      "       anger       0.90      0.39      0.54       617\n",
      "        fear       0.80      0.30      0.44       531\n",
      "       happy       0.68      0.95      0.79      1381\n",
      "        love       0.68      0.04      0.08       318\n",
      "     sadness       0.63      0.94      0.76      1277\n",
      "    surprise       0.00      0.00      0.00       168\n",
      "\n",
      "    accuracy                           0.68      4292\n",
      "   macro avg       0.62      0.44      0.43      4292\n",
      "weighted avg       0.69      0.68      0.62      4292\n",
      "\n"
     ]
    }
   ],
   "source": [
    "corpus= np.array(df1['Text'])\n",
    "targets = np.array(df1['Emotion'])\n",
    "\n",
    "# run base pipes and displaying the classification reports\n",
    "res1 = run_pipes([pipe1, pipe2,pipe3,pipe4,pipe5], splits=1)"
   ]
  },
  {
   "cell_type": "code",
   "execution_count": 13,
   "metadata": {},
   "outputs": [
    {
     "data": {
      "text/html": [
       "<div>\n",
       "<style scoped>\n",
       "    .dataframe tbody tr th:only-of-type {\n",
       "        vertical-align: middle;\n",
       "    }\n",
       "\n",
       "    .dataframe tbody tr th {\n",
       "        vertical-align: top;\n",
       "    }\n",
       "\n",
       "    .dataframe thead th {\n",
       "        text-align: right;\n",
       "    }\n",
       "</style>\n",
       "<table border=\"1\" class=\"dataframe\">\n",
       "  <thead>\n",
       "    <tr style=\"text-align: right;\">\n",
       "      <th></th>\n",
       "      <th>index</th>\n",
       "      <th>time</th>\n",
       "      <th>precision_score</th>\n",
       "      <th>recall_score</th>\n",
       "      <th>f1_score</th>\n",
       "    </tr>\n",
       "  </thead>\n",
       "  <tbody>\n",
       "    <tr>\n",
       "      <th>0</th>\n",
       "      <td>vect-svml</td>\n",
       "      <td>6.72</td>\n",
       "      <td>0.87</td>\n",
       "      <td>0.87</td>\n",
       "      <td>0.87</td>\n",
       "    </tr>\n",
       "    <tr>\n",
       "      <th>1</th>\n",
       "      <td>vect-logit</td>\n",
       "      <td>18.35</td>\n",
       "      <td>0.87</td>\n",
       "      <td>0.87</td>\n",
       "      <td>0.87</td>\n",
       "    </tr>\n",
       "    <tr>\n",
       "      <th>2</th>\n",
       "      <td>vect-mult_nb</td>\n",
       "      <td>1.50</td>\n",
       "      <td>0.80</td>\n",
       "      <td>0.78</td>\n",
       "      <td>0.75</td>\n",
       "    </tr>\n",
       "    <tr>\n",
       "      <th>3</th>\n",
       "      <td>vect-compl_nb</td>\n",
       "      <td>1.46</td>\n",
       "      <td>0.87</td>\n",
       "      <td>0.87</td>\n",
       "      <td>0.87</td>\n",
       "    </tr>\n",
       "    <tr>\n",
       "      <th>4</th>\n",
       "      <td>vect-bern_nb</td>\n",
       "      <td>1.46</td>\n",
       "      <td>0.69</td>\n",
       "      <td>0.68</td>\n",
       "      <td>0.62</td>\n",
       "    </tr>\n",
       "  </tbody>\n",
       "</table>\n",
       "</div>"
      ],
      "text/plain": [
       "           index   time  precision_score  recall_score  f1_score\n",
       "0      vect-svml   6.72             0.87          0.87      0.87\n",
       "1     vect-logit  18.35             0.87          0.87      0.87\n",
       "2   vect-mult_nb   1.50             0.80          0.78      0.75\n",
       "3  vect-compl_nb   1.46             0.87          0.87      0.87\n",
       "4   vect-bern_nb   1.46             0.69          0.68      0.62"
      ]
     },
     "execution_count": 13,
     "metadata": {},
     "output_type": "execute_result"
    }
   ],
   "source": [
    "print_table(res1)"
   ]
  },
  {
   "cell_type": "markdown",
   "metadata": {},
   "source": [
    "If we look at the table above, we can see the Bernouilli classifier got the worst F1 score whereas the logistic regression, the linear support vector machines and the Complement Naive Bayes classifier got the best F1 score. Now let's try these pipelines with the second dataset."
   ]
  },
  {
   "cell_type": "markdown",
   "metadata": {},
   "source": [
    "### II . Analysis and classification on the second dataset (data.world)"
   ]
  },
  {
   "cell_type": "code",
   "execution_count": 14,
   "metadata": {},
   "outputs": [],
   "source": [
    "# Loading the dataframe\n",
    "df2=pd.read_csv('text_emotion.csv')"
   ]
  },
  {
   "cell_type": "code",
   "execution_count": 15,
   "metadata": {},
   "outputs": [
    {
     "data": {
      "text/html": [
       "<div>\n",
       "<style scoped>\n",
       "    .dataframe tbody tr th:only-of-type {\n",
       "        vertical-align: middle;\n",
       "    }\n",
       "\n",
       "    .dataframe tbody tr th {\n",
       "        vertical-align: top;\n",
       "    }\n",
       "\n",
       "    .dataframe thead th {\n",
       "        text-align: right;\n",
       "    }\n",
       "</style>\n",
       "<table border=\"1\" class=\"dataframe\">\n",
       "  <thead>\n",
       "    <tr style=\"text-align: right;\">\n",
       "      <th></th>\n",
       "      <th>tweet_id</th>\n",
       "      <th>sentiment</th>\n",
       "      <th>author</th>\n",
       "      <th>content</th>\n",
       "    </tr>\n",
       "  </thead>\n",
       "  <tbody>\n",
       "    <tr>\n",
       "      <th>0</th>\n",
       "      <td>1956967341</td>\n",
       "      <td>empty</td>\n",
       "      <td>xoshayzers</td>\n",
       "      <td>@tiffanylue i know  i was listenin to bad habi...</td>\n",
       "    </tr>\n",
       "    <tr>\n",
       "      <th>1</th>\n",
       "      <td>1956967666</td>\n",
       "      <td>sadness</td>\n",
       "      <td>wannamama</td>\n",
       "      <td>Layin n bed with a headache  ughhhh...waitin o...</td>\n",
       "    </tr>\n",
       "    <tr>\n",
       "      <th>2</th>\n",
       "      <td>1956967696</td>\n",
       "      <td>sadness</td>\n",
       "      <td>coolfunky</td>\n",
       "      <td>Funeral ceremony...gloomy friday...</td>\n",
       "    </tr>\n",
       "    <tr>\n",
       "      <th>3</th>\n",
       "      <td>1956967789</td>\n",
       "      <td>enthusiasm</td>\n",
       "      <td>czareaquino</td>\n",
       "      <td>wants to hang out with friends SOON!</td>\n",
       "    </tr>\n",
       "    <tr>\n",
       "      <th>4</th>\n",
       "      <td>1956968416</td>\n",
       "      <td>neutral</td>\n",
       "      <td>xkilljoyx</td>\n",
       "      <td>@dannycastillo We want to trade with someone w...</td>\n",
       "    </tr>\n",
       "  </tbody>\n",
       "</table>\n",
       "</div>"
      ],
      "text/plain": [
       "     tweet_id   sentiment       author  \\\n",
       "0  1956967341       empty   xoshayzers   \n",
       "1  1956967666     sadness    wannamama   \n",
       "2  1956967696     sadness    coolfunky   \n",
       "3  1956967789  enthusiasm  czareaquino   \n",
       "4  1956968416     neutral    xkilljoyx   \n",
       "\n",
       "                                             content  \n",
       "0  @tiffanylue i know  i was listenin to bad habi...  \n",
       "1  Layin n bed with a headache  ughhhh...waitin o...  \n",
       "2                Funeral ceremony...gloomy friday...  \n",
       "3               wants to hang out with friends SOON!  \n",
       "4  @dannycastillo We want to trade with someone w...  "
      ]
     },
     "execution_count": 15,
     "metadata": {},
     "output_type": "execute_result"
    }
   ],
   "source": [
    "df2.head()"
   ]
  },
  {
   "cell_type": "code",
   "execution_count": 16,
   "metadata": {},
   "outputs": [
    {
     "name": "stdout",
     "output_type": "stream",
     "text": [
      "<class 'pandas.core.frame.DataFrame'>\n",
      "RangeIndex: 40000 entries, 0 to 39999\n",
      "Data columns (total 4 columns):\n",
      " #   Column     Non-Null Count  Dtype \n",
      "---  ------     --------------  ----- \n",
      " 0   tweet_id   40000 non-null  int64 \n",
      " 1   sentiment  40000 non-null  object\n",
      " 2   author     40000 non-null  object\n",
      " 3   content    40000 non-null  object\n",
      "dtypes: int64(1), object(3)\n",
      "memory usage: 1.2+ MB\n"
     ]
    }
   ],
   "source": [
    "df2.info()"
   ]
  },
  {
   "cell_type": "markdown",
   "metadata": {},
   "source": [
    "There are 40000 rows and 4 columns on this dataset."
   ]
  },
  {
   "cell_type": "code",
   "execution_count": 17,
   "metadata": {},
   "outputs": [
    {
     "data": {
      "text/plain": [
       "<AxesSubplot:>"
      ]
     },
     "execution_count": 17,
     "metadata": {},
     "output_type": "execute_result"
    },
    {
     "data": {
      "image/png": "[encoded data removed]",
      "text/plain": [
       "<Figure size 432x288 with 1 Axes>"
      ]
     },
     "metadata": {
      "needs_background": "light"
     },
     "output_type": "display_data"
    }
   ],
   "source": [
    "df2['sentiment'].value_counts().plot(kind='bar')"
   ]
  },
  {
   "cell_type": "markdown",
   "metadata": {},
   "source": [
    "The sentiments 'neutral' and 'worry' have the highest frequency in the data.world dataset."
   ]
  },
  {
   "cell_type": "markdown",
   "metadata": {},
   "source": [
    "### Preprocessing data"
   ]
  },
  {
   "cell_type": "code",
   "execution_count": 18,
   "metadata": {},
   "outputs": [],
   "source": [
    "# As recipient's name is not very useful in our dataset we decide to remove all the words starting with an @\n",
    "def atremove(txt):\n",
    "    quote=' '.join(word for word in txt.split(' ') if not word.startswith('@'))\n",
    "    return quote"
   ]
  },
  {
   "cell_type": "code",
   "execution_count": 19,
   "metadata": {},
   "outputs": [
    {
     "data": {
      "text/plain": [
       "'i know i was listenin'"
      ]
     },
     "execution_count": 19,
     "metadata": {},
     "output_type": "execute_result"
    }
   ],
   "source": [
    "atremove('@tiffanylue i know i was listenin') "
   ]
  },
  {
   "cell_type": "code",
   "execution_count": 20,
   "metadata": {},
   "outputs": [
    {
     "data": {
      "text/plain": [
       "array(['i know i be listenin to bad habit early and i start freakin at his part = [',\n",
       "       'layin n bed with a headache ughhhh ... waitin on your call ...',\n",
       "       'funeral ceremony ... gloomy friday ...', ...,\n",
       "       \"happy mother 's day to all the mommy out there , be you woman or man a long a you 're 'momma ' to someone this be your day !\",\n",
       "       'wassup beautiful ! ! ! follow me ! ! peep out my new hit single www.myspace.com/ipsohot i def . wat u in the video ! !',\n",
       "       'bullet train from tokyo the gf and i have be visit japan since thursday vacation/sightseeing gaijin godzilla'],\n",
       "      dtype=object)"
      ]
     },
     "execution_count": 20,
     "metadata": {},
     "output_type": "execute_result"
    }
   ],
   "source": [
    "df2['content']=df2['content'].apply(lambda x: atremove(x))\n",
    "df2['content']=df2['content'].apply(lambda sent: lemmatize(sent))\n",
    "np.array(df2['content'])"
   ]
  },
  {
   "cell_type": "code",
   "execution_count": 21,
   "metadata": {},
   "outputs": [
    {
     "name": "stdout",
     "output_type": "stream",
     "text": [
      "vocabulary size; 27511\n"
     ]
    },
    {
     "data": {
      "image/png": "[encoded data removed]",
      "text/plain": [
       "<Figure size 1440x576 with 1 Axes>"
      ]
     },
     "metadata": {
      "needs_background": "light"
     },
     "output_type": "display_data"
    }
   ],
   "source": [
    "# Vobabulary analysis\n",
    "corpus=df2['content']\n",
    "targets=df2['sentiment']\n",
    "\n",
    "vec = CountVectorizer(stop_words=stopwords)\n",
    "X = vec.fit_transform(corpus)\n",
    "words = vec.get_feature_names()\n",
    "\n",
    "print(\"vocabulary size; %d\" % len(words) )\n",
    "\n",
    "# Compute rank\n",
    "wsum = np.array(X.sum(0))[0]\n",
    "ix = wsum.argsort()[::-1]\n",
    "wrank = wsum[ix] \n",
    "labels = [words[i] for i in ix]\n",
    "\n",
    "# Sub-sample the data to plot.\n",
    "# take the 20 first + the rest sample with the given step \n",
    "def subsample(x):\n",
    "    return np.hstack((x[:20]))\n",
    "\n",
    "\n",
    "plt.figure(figsize=(20,8))\n",
    "freq = subsample(wrank)\n",
    "r = np.arange(len(freq))\n",
    "plt.bar(r, freq, width=0.7)\n",
    "plt.xticks(r, subsample(labels), rotation=55)\n",
    "plt.xlabel('word rank')\n",
    "plt.ylabel('word frequncy')\n",
    "plt.title(\"Words ordered by rank. Only the first 20 ranks are displayed\");\n"
   ]
  },
  {
   "cell_type": "markdown",
   "metadata": {},
   "source": [
    "#### Running the pipelines for the second dataset"
   ]
  },
  {
   "cell_type": "code",
   "execution_count": 22,
   "metadata": {},
   "outputs": [
    {
     "name": "stderr",
     "output_type": "stream",
     "text": [
      "/home/caroline09/anaconda3/envs/machlearn/lib/python3.8/site-packages/sklearn/svm/_base.py:976: ConvergenceWarning: Liblinear failed to converge, increase the number of iterations.\n",
      "  warnings.warn(\"Liblinear failed to converge, increase \"\n"
     ]
    },
    {
     "name": "stdout",
     "output_type": "stream",
     "text": [
      "vect-svml\n",
      "              precision    recall  f1-score   support\n",
      "\n",
      "       anger       0.00      0.00      0.00        19\n",
      "     boredom       0.06      0.03      0.04        31\n",
      "       empty       0.02      0.01      0.02       162\n",
      "  enthusiasm       0.03      0.01      0.02       163\n",
      "         fun       0.06      0.04      0.05       338\n",
      "   happiness       0.29      0.29      0.29      1028\n",
      "        hate       0.25      0.18      0.21       268\n",
      "        love       0.36      0.36      0.36       762\n",
      "     neutral       0.34      0.46      0.39      1740\n",
      "      relief       0.14      0.07      0.09       352\n",
      "     sadness       0.28      0.27      0.28      1046\n",
      "    surprise       0.13      0.08      0.10       425\n",
      "       worry       0.32      0.35      0.33      1666\n",
      "\n",
      "    accuracy                           0.30      8000\n",
      "   macro avg       0.18      0.17      0.17      8000\n",
      "weighted avg       0.27      0.30      0.28      8000\n",
      "\n",
      "vect-logit\n"
     ]
    },
    {
     "name": "stderr",
     "output_type": "stream",
     "text": [
      "/home/caroline09/anaconda3/envs/machlearn/lib/python3.8/site-packages/sklearn/metrics/_classification.py:1221: UndefinedMetricWarning: Precision and F-score are ill-defined and being set to 0.0 in labels with no predicted samples. Use `zero_division` parameter to control this behavior.\n",
      "  _warn_prf(average, modifier, msg_start, len(result))\n"
     ]
    },
    {
     "name": "stdout",
     "output_type": "stream",
     "text": [
      "              precision    recall  f1-score   support\n",
      "\n",
      "       anger       0.00      0.00      0.00        19\n",
      "     boredom       0.00      0.00      0.00        31\n",
      "       empty       0.05      0.01      0.01       162\n",
      "  enthusiasm       0.06      0.01      0.01       163\n",
      "         fun       0.12      0.05      0.07       338\n",
      "   happiness       0.33      0.33      0.33      1028\n",
      "        hate       0.34      0.18      0.23       268\n",
      "        love       0.46      0.39      0.42       762\n",
      "     neutral       0.35      0.57      0.43      1740\n",
      "      relief       0.24      0.05      0.08       352\n",
      "     sadness       0.31      0.28      0.29      1046\n",
      "    surprise       0.14      0.05      0.07       425\n",
      "       worry       0.33      0.40      0.36      1666\n",
      "\n",
      "    accuracy                           0.34      8000\n",
      "   macro avg       0.21      0.18      0.18      8000\n",
      "weighted avg       0.31      0.34      0.31      8000\n",
      "\n"
     ]
    },
    {
     "name": "stderr",
     "output_type": "stream",
     "text": [
      "/home/caroline09/anaconda3/envs/machlearn/lib/python3.8/site-packages/sklearn/metrics/_classification.py:1221: UndefinedMetricWarning: Precision is ill-defined and being set to 0.0 in labels with no predicted samples. Use `zero_division` parameter to control this behavior.\n",
      "  _warn_prf(average, modifier, msg_start, len(result))\n"
     ]
    },
    {
     "name": "stdout",
     "output_type": "stream",
     "text": [
      "vect-mult_nb\n"
     ]
    },
    {
     "name": "stderr",
     "output_type": "stream",
     "text": [
      "/home/caroline09/anaconda3/envs/machlearn/lib/python3.8/site-packages/sklearn/metrics/_classification.py:1221: UndefinedMetricWarning: Precision and F-score are ill-defined and being set to 0.0 in labels with no predicted samples. Use `zero_division` parameter to control this behavior.\n",
      "  _warn_prf(average, modifier, msg_start, len(result))\n"
     ]
    },
    {
     "name": "stdout",
     "output_type": "stream",
     "text": [
      "              precision    recall  f1-score   support\n",
      "\n",
      "       anger       0.00      0.00      0.00        19\n",
      "     boredom       0.00      0.00      0.00        31\n",
      "       empty       0.00      0.00      0.00       162\n",
      "  enthusiasm       0.00      0.00      0.00       163\n",
      "         fun       0.00      0.00      0.00       338\n",
      "   happiness       0.32      0.33      0.32      1028\n",
      "        hate       0.27      0.01      0.02       268\n",
      "        love       0.49      0.32      0.39       762\n",
      "     neutral       0.33      0.39      0.36      1740\n",
      "      relief       0.00      0.00      0.00       352\n",
      "     sadness       0.32      0.17      0.22      1046\n",
      "    surprise       0.50      0.01      0.02       425\n",
      "       worry       0.29      0.65      0.40      1666\n",
      "\n",
      "    accuracy                           0.32      8000\n",
      "   macro avg       0.19      0.15      0.13      8000\n",
      "weighted avg       0.30      0.32      0.27      8000\n",
      "\n"
     ]
    },
    {
     "name": "stderr",
     "output_type": "stream",
     "text": [
      "/home/caroline09/anaconda3/envs/machlearn/lib/python3.8/site-packages/sklearn/metrics/_classification.py:1221: UndefinedMetricWarning: Precision is ill-defined and being set to 0.0 in labels with no predicted samples. Use `zero_division` parameter to control this behavior.\n",
      "  _warn_prf(average, modifier, msg_start, len(result))\n"
     ]
    },
    {
     "name": "stdout",
     "output_type": "stream",
     "text": [
      "vect-compl_nb\n",
      "              precision    recall  f1-score   support\n",
      "\n",
      "       anger       0.00      0.00      0.00        19\n",
      "     boredom       0.00      0.00      0.00        31\n",
      "       empty       0.02      0.01      0.01       162\n",
      "  enthusiasm       0.03      0.01      0.01       163\n",
      "         fun       0.08      0.05      0.06       338\n",
      "   happiness       0.27      0.37      0.31      1028\n",
      "        hate       0.26      0.22      0.24       268\n",
      "        love       0.35      0.48      0.40       762\n",
      "     neutral       0.33      0.24      0.28      1740\n",
      "      relief       0.17      0.06      0.09       352\n",
      "     sadness       0.28      0.29      0.29      1046\n",
      "    surprise       0.15      0.08      0.10       425\n",
      "       worry       0.32      0.43      0.37      1666\n",
      "\n",
      "    accuracy                           0.29      8000\n",
      "   macro avg       0.17      0.17      0.17      8000\n",
      "weighted avg       0.27      0.29      0.27      8000\n",
      "\n",
      "vect-bern_nb\n"
     ]
    },
    {
     "name": "stderr",
     "output_type": "stream",
     "text": [
      "/home/caroline09/anaconda3/envs/machlearn/lib/python3.8/site-packages/sklearn/metrics/_classification.py:1221: UndefinedMetricWarning: Precision and F-score are ill-defined and being set to 0.0 in labels with no predicted samples. Use `zero_division` parameter to control this behavior.\n",
      "  _warn_prf(average, modifier, msg_start, len(result))\n"
     ]
    },
    {
     "name": "stdout",
     "output_type": "stream",
     "text": [
      "              precision    recall  f1-score   support\n",
      "\n",
      "       anger       0.00      0.00      0.00        19\n",
      "     boredom       0.00      0.00      0.00        31\n",
      "       empty       0.00      0.00      0.00       162\n",
      "  enthusiasm       0.00      0.00      0.00       163\n",
      "         fun       0.00      0.00      0.00       338\n",
      "   happiness       0.33      0.14      0.20      1028\n",
      "        hate       0.00      0.00      0.00       268\n",
      "        love       0.53      0.15      0.24       762\n",
      "     neutral       0.30      0.67      0.41      1740\n",
      "      relief       0.00      0.00      0.00       352\n",
      "     sadness       0.33      0.05      0.08      1046\n",
      "    surprise       0.00      0.00      0.00       425\n",
      "       worry       0.30      0.60      0.40      1666\n",
      "\n",
      "    accuracy                           0.31      8000\n",
      "   macro avg       0.14      0.12      0.10      8000\n",
      "weighted avg       0.26      0.31      0.23      8000\n",
      "\n"
     ]
    },
    {
     "name": "stderr",
     "output_type": "stream",
     "text": [
      "/home/caroline09/anaconda3/envs/machlearn/lib/python3.8/site-packages/sklearn/metrics/_classification.py:1221: UndefinedMetricWarning: Precision is ill-defined and being set to 0.0 in labels with no predicted samples. Use `zero_division` parameter to control this behavior.\n",
      "  _warn_prf(average, modifier, msg_start, len(result))\n"
     ]
    }
   ],
   "source": [
    "corpus= np.array(df2['content'])\n",
    "targets = np.array(df2['sentiment'])\n",
    "\n",
    "# run base pipes\n",
    "res2 = run_pipes([pipe1, pipe2,pipe3,pipe4,pipe5], splits=1)"
   ]
  },
  {
   "cell_type": "code",
   "execution_count": 23,
   "metadata": {},
   "outputs": [
    {
     "data": {
      "text/html": [
       "<div>\n",
       "<style scoped>\n",
       "    .dataframe tbody tr th:only-of-type {\n",
       "        vertical-align: middle;\n",
       "    }\n",
       "\n",
       "    .dataframe tbody tr th {\n",
       "        vertical-align: top;\n",
       "    }\n",
       "\n",
       "    .dataframe thead th {\n",
       "        text-align: right;\n",
       "    }\n",
       "</style>\n",
       "<table border=\"1\" class=\"dataframe\">\n",
       "  <thead>\n",
       "    <tr style=\"text-align: right;\">\n",
       "      <th></th>\n",
       "      <th>index</th>\n",
       "      <th>time</th>\n",
       "      <th>precision_score</th>\n",
       "      <th>recall_score</th>\n",
       "      <th>f1_score</th>\n",
       "    </tr>\n",
       "  </thead>\n",
       "  <tbody>\n",
       "    <tr>\n",
       "      <th>0</th>\n",
       "      <td>vect-svml</td>\n",
       "      <td>72.57</td>\n",
       "      <td>0.27</td>\n",
       "      <td>0.30</td>\n",
       "      <td>0.28</td>\n",
       "    </tr>\n",
       "    <tr>\n",
       "      <th>1</th>\n",
       "      <td>vect-logit</td>\n",
       "      <td>82.03</td>\n",
       "      <td>0.31</td>\n",
       "      <td>0.34</td>\n",
       "      <td>0.31</td>\n",
       "    </tr>\n",
       "    <tr>\n",
       "      <th>2</th>\n",
       "      <td>vect-mult_nb</td>\n",
       "      <td>2.60</td>\n",
       "      <td>0.30</td>\n",
       "      <td>0.32</td>\n",
       "      <td>0.27</td>\n",
       "    </tr>\n",
       "    <tr>\n",
       "      <th>3</th>\n",
       "      <td>vect-compl_nb</td>\n",
       "      <td>2.57</td>\n",
       "      <td>0.27</td>\n",
       "      <td>0.29</td>\n",
       "      <td>0.27</td>\n",
       "    </tr>\n",
       "    <tr>\n",
       "      <th>4</th>\n",
       "      <td>vect-bern_nb</td>\n",
       "      <td>2.46</td>\n",
       "      <td>0.26</td>\n",
       "      <td>0.31</td>\n",
       "      <td>0.23</td>\n",
       "    </tr>\n",
       "  </tbody>\n",
       "</table>\n",
       "</div>"
      ],
      "text/plain": [
       "           index   time  precision_score  recall_score  f1_score\n",
       "0      vect-svml  72.57             0.27          0.30      0.28\n",
       "1     vect-logit  82.03             0.31          0.34      0.31\n",
       "2   vect-mult_nb   2.60             0.30          0.32      0.27\n",
       "3  vect-compl_nb   2.57             0.27          0.29      0.27\n",
       "4   vect-bern_nb   2.46             0.26          0.31      0.23"
      ]
     },
     "execution_count": 23,
     "metadata": {},
     "output_type": "execute_result"
    }
   ],
   "source": [
    "print_table(res2)"
   ]
  },
  {
   "cell_type": "markdown",
   "metadata": {},
   "source": [
    "The F1 scores are very low for all the classifiers. The reason may be the number of sentiments(13) which is higher than in the Kaggle dataset (6 different emotions only). Therefore there is a higher risk that an item might be misclassified."
   ]
  },
  {
   "cell_type": "markdown",
   "metadata": {},
   "source": [
    "### Can we improve the F1 score if we concatenate the two datasets ?"
   ]
  },
  {
   "cell_type": "code",
   "execution_count": 24,
   "metadata": {},
   "outputs": [],
   "source": [
    "# We concatenate the two datasets by using only 2 columns from data.worls dataset\n",
    "df3=df1.append(df2[['content','sentiment']].rename(columns={\"content\": \"Text\", \"sentiment\": \"Emotion\"}),ignore_index=True)"
   ]
  },
  {
   "cell_type": "code",
   "execution_count": 25,
   "metadata": {},
   "outputs": [
    {
     "data": {
      "text/html": [
       "<div>\n",
       "<style scoped>\n",
       "    .dataframe tbody tr th:only-of-type {\n",
       "        vertical-align: middle;\n",
       "    }\n",
       "\n",
       "    .dataframe tbody tr th {\n",
       "        vertical-align: top;\n",
       "    }\n",
       "\n",
       "    .dataframe thead th {\n",
       "        text-align: right;\n",
       "    }\n",
       "</style>\n",
       "<table border=\"1\" class=\"dataframe\">\n",
       "  <thead>\n",
       "    <tr style=\"text-align: right;\">\n",
       "      <th></th>\n",
       "      <th>Text</th>\n",
       "      <th>Emotion</th>\n",
       "    </tr>\n",
       "  </thead>\n",
       "  <tbody>\n",
       "    <tr>\n",
       "      <th>0</th>\n",
       "      <td>i didnt feel humiliate</td>\n",
       "      <td>sadness</td>\n",
       "    </tr>\n",
       "    <tr>\n",
       "      <th>1</th>\n",
       "      <td>i can go from feel so hopeless to so damn hope...</td>\n",
       "      <td>sadness</td>\n",
       "    </tr>\n",
       "    <tr>\n",
       "      <th>2</th>\n",
       "      <td>im grab a minute to post i feel greedy wrong</td>\n",
       "      <td>anger</td>\n",
       "    </tr>\n",
       "    <tr>\n",
       "      <th>3</th>\n",
       "      <td>i be ever feel nostalgic about the fireplace i...</td>\n",
       "      <td>love</td>\n",
       "    </tr>\n",
       "    <tr>\n",
       "      <th>4</th>\n",
       "      <td>i be feel grouchy</td>\n",
       "      <td>anger</td>\n",
       "    </tr>\n",
       "    <tr>\n",
       "      <th>...</th>\n",
       "      <td>...</td>\n",
       "      <td>...</td>\n",
       "    </tr>\n",
       "    <tr>\n",
       "      <th>61454</th>\n",
       "      <td></td>\n",
       "      <td>neutral</td>\n",
       "    </tr>\n",
       "    <tr>\n",
       "      <th>61455</th>\n",
       "      <td>happy mother day all my love</td>\n",
       "      <td>love</td>\n",
       "    </tr>\n",
       "    <tr>\n",
       "      <th>61456</th>\n",
       "      <td>happy mother 's day to all the mommy out there...</td>\n",
       "      <td>love</td>\n",
       "    </tr>\n",
       "    <tr>\n",
       "      <th>61457</th>\n",
       "      <td>wassup beautiful ! ! ! follow me ! ! peep out ...</td>\n",
       "      <td>happy</td>\n",
       "    </tr>\n",
       "    <tr>\n",
       "      <th>61458</th>\n",
       "      <td>bullet train from tokyo the gf and i have be v...</td>\n",
       "      <td>love</td>\n",
       "    </tr>\n",
       "  </tbody>\n",
       "</table>\n",
       "<p>61459 rows × 2 columns</p>\n",
       "</div>"
      ],
      "text/plain": [
       "                                                    Text  Emotion\n",
       "0                                 i didnt feel humiliate  sadness\n",
       "1      i can go from feel so hopeless to so damn hope...  sadness\n",
       "2           im grab a minute to post i feel greedy wrong    anger\n",
       "3      i be ever feel nostalgic about the fireplace i...     love\n",
       "4                                      i be feel grouchy    anger\n",
       "...                                                  ...      ...\n",
       "61454                                                     neutral\n",
       "61455                       happy mother day all my love     love\n",
       "61456  happy mother 's day to all the mommy out there...     love\n",
       "61457  wassup beautiful ! ! ! follow me ! ! peep out ...    happy\n",
       "61458  bullet train from tokyo the gf and i have be v...     love\n",
       "\n",
       "[61459 rows x 2 columns]"
      ]
     },
     "execution_count": 25,
     "metadata": {},
     "output_type": "execute_result"
    }
   ],
   "source": [
    "# It is necessary to merge all the rows with 'happiness' together with all the rows with 'happy'\n",
    "df3.loc[(df3.Emotion == 'happiness'),'Emotion']='happy'\n",
    "df3"
   ]
  },
  {
   "cell_type": "code",
   "execution_count": 26,
   "metadata": {},
   "outputs": [
    {
     "data": {
      "text/plain": [
       "<AxesSubplot:>"
      ]
     },
     "execution_count": 26,
     "metadata": {},
     "output_type": "execute_result"
    },
    {
     "data": {
      "image/png": "[encoded data removed]",
      "text/plain": [
       "<Figure size 432x288 with 1 Axes>"
      ]
     },
     "metadata": {
      "needs_background": "light"
     },
     "output_type": "display_data"
    }
   ],
   "source": [
    "df3['Emotion'].value_counts().plot(kind='bar')"
   ]
  },
  {
   "cell_type": "markdown",
   "metadata": {},
   "source": [
    "Happy, sadness, neutral and worry are the most frequent emotions in this combined dataset."
   ]
  },
  {
   "cell_type": "code",
   "execution_count": 27,
   "metadata": {},
   "outputs": [
    {
     "name": "stderr",
     "output_type": "stream",
     "text": [
      "/home/caroline09/anaconda3/envs/machlearn/lib/python3.8/site-packages/sklearn/svm/_base.py:976: ConvergenceWarning: Liblinear failed to converge, increase the number of iterations.\n",
      "  warnings.warn(\"Liblinear failed to converge, increase \"\n"
     ]
    },
    {
     "name": "stdout",
     "output_type": "stream",
     "text": [
      "vect-svml\n",
      "              precision    recall  f1-score   support\n",
      "\n",
      "       anger       0.76      0.75      0.76       623\n",
      "     boredom       0.08      0.03      0.04        34\n",
      "       empty       0.03      0.01      0.02       160\n",
      "  enthusiasm       0.02      0.01      0.01       160\n",
      "        fear       0.81      0.81      0.81       531\n",
      "         fun       0.08      0.04      0.05       382\n",
      "       happy       0.61      0.63      0.62      2478\n",
      "        hate       0.22      0.16      0.19       270\n",
      "        love       0.49      0.46      0.47      1124\n",
      "     neutral       0.32      0.46      0.38      1658\n",
      "      relief       0.08      0.04      0.05       326\n",
      "     sadness       0.58      0.60      0.59      2207\n",
      "    surprise       0.30      0.25      0.27       605\n",
      "       worry       0.30      0.29      0.29      1734\n",
      "\n",
      "    accuracy                           0.47     12292\n",
      "   macro avg       0.33      0.32      0.33     12292\n",
      "weighted avg       0.46      0.47      0.46     12292\n",
      "\n",
      "vect-logit\n",
      "              precision    recall  f1-score   support\n",
      "\n",
      "       anger       0.82      0.75      0.79       623\n",
      "     boredom       0.14      0.03      0.05        34\n",
      "       empty       0.10      0.01      0.02       160\n",
      "  enthusiasm       0.00      0.00      0.00       160\n",
      "        fear       0.85      0.81      0.83       531\n",
      "         fun       0.14      0.04      0.07       382\n",
      "       happy       0.62      0.66      0.64      2478\n",
      "        hate       0.38      0.19      0.25       270\n",
      "        love       0.56      0.46      0.51      1124\n",
      "     neutral       0.33      0.57      0.42      1658\n",
      "      relief       0.14      0.03      0.05       326\n",
      "     sadness       0.62      0.62      0.62      2207\n",
      "    surprise       0.39      0.23      0.29       605\n",
      "       worry       0.34      0.36      0.35      1734\n",
      "\n",
      "    accuracy                           0.51     12292\n",
      "   macro avg       0.39      0.34      0.35     12292\n",
      "weighted avg       0.49      0.51      0.49     12292\n",
      "\n",
      "vect-mult_nb\n"
     ]
    },
    {
     "name": "stderr",
     "output_type": "stream",
     "text": [
      "/home/caroline09/anaconda3/envs/machlearn/lib/python3.8/site-packages/sklearn/metrics/_classification.py:1221: UndefinedMetricWarning: Precision and F-score are ill-defined and being set to 0.0 in labels with no predicted samples. Use `zero_division` parameter to control this behavior.\n",
      "  _warn_prf(average, modifier, msg_start, len(result))\n"
     ]
    },
    {
     "name": "stdout",
     "output_type": "stream",
     "text": [
      "              precision    recall  f1-score   support\n",
      "\n",
      "       anger       0.88      0.39      0.54       623\n",
      "     boredom       0.00      0.00      0.00        34\n",
      "       empty       0.00      0.00      0.00       160\n",
      "  enthusiasm       0.00      0.00      0.00       160\n",
      "        fear       0.84      0.34      0.48       531\n",
      "         fun       0.00      0.00      0.00       382\n",
      "       happy       0.45      0.73      0.56      2478\n",
      "        hate       0.67      0.01      0.01       270\n",
      "        love       0.55      0.27      0.36      1124\n",
      "     neutral       0.30      0.27      0.28      1658\n",
      "      relief       0.00      0.00      0.00       326\n",
      "     sadness       0.44      0.69      0.54      2207\n",
      "    surprise       0.53      0.04      0.07       605\n",
      "       worry       0.31      0.41      0.35      1734\n",
      "\n",
      "    accuracy                           0.43     12292\n",
      "   macro avg       0.36      0.22      0.23     12292\n",
      "weighted avg       0.43      0.43      0.38     12292\n",
      "\n"
     ]
    },
    {
     "name": "stderr",
     "output_type": "stream",
     "text": [
      "/home/caroline09/anaconda3/envs/machlearn/lib/python3.8/site-packages/sklearn/metrics/_classification.py:1221: UndefinedMetricWarning: Precision is ill-defined and being set to 0.0 in labels with no predicted samples. Use `zero_division` parameter to control this behavior.\n",
      "  _warn_prf(average, modifier, msg_start, len(result))\n"
     ]
    },
    {
     "name": "stdout",
     "output_type": "stream",
     "text": [
      "vect-compl_nb\n",
      "              precision    recall  f1-score   support\n",
      "\n",
      "       anger       0.61      0.76      0.68       623\n",
      "     boredom       0.00      0.00      0.00        34\n",
      "       empty       0.00      0.00      0.00       160\n",
      "  enthusiasm       0.06      0.01      0.01       160\n",
      "        fear       0.67      0.85      0.75       531\n",
      "         fun       0.13      0.05      0.07       382\n",
      "       happy       0.59      0.63      0.61      2478\n",
      "        hate       0.27      0.14      0.18       270\n",
      "        love       0.43      0.47      0.45      1124\n",
      "     neutral       0.30      0.29      0.30      1658\n",
      "      relief       0.04      0.01      0.02       326\n",
      "     sadness       0.59      0.63      0.61      2207\n",
      "    surprise       0.36      0.20      0.26       605\n",
      "       worry       0.30      0.39      0.34      1734\n",
      "\n",
      "    accuracy                           0.47     12292\n",
      "   macro avg       0.31      0.32      0.31     12292\n",
      "weighted avg       0.44      0.47      0.45     12292\n",
      "\n",
      "vect-bern_nb\n"
     ]
    },
    {
     "name": "stderr",
     "output_type": "stream",
     "text": [
      "/home/caroline09/anaconda3/envs/machlearn/lib/python3.8/site-packages/sklearn/metrics/_classification.py:1221: UndefinedMetricWarning: Precision and F-score are ill-defined and being set to 0.0 in labels with no predicted samples. Use `zero_division` parameter to control this behavior.\n",
      "  _warn_prf(average, modifier, msg_start, len(result))\n"
     ]
    },
    {
     "name": "stdout",
     "output_type": "stream",
     "text": [
      "              precision    recall  f1-score   support\n",
      "\n",
      "       anger       0.80      0.04      0.09       623\n",
      "     boredom       0.00      0.00      0.00        34\n",
      "       empty       0.00      0.00      0.00       160\n",
      "  enthusiasm       0.00      0.00      0.00       160\n",
      "        fear       0.83      0.02      0.04       531\n",
      "         fun       0.00      0.00      0.00       382\n",
      "       happy       0.48      0.70      0.57      2478\n",
      "        hate       0.00      0.00      0.00       270\n",
      "        love       0.60      0.12      0.20      1124\n",
      "     neutral       0.31      0.57      0.40      1658\n",
      "      relief       0.00      0.00      0.00       326\n",
      "     sadness       0.42      0.68      0.52      2207\n",
      "    surprise       1.00      0.00      0.00       605\n",
      "       worry       0.32      0.34      0.33      1734\n",
      "\n",
      "    accuracy                           0.40     12292\n",
      "   macro avg       0.34      0.18      0.15     12292\n",
      "weighted avg       0.44      0.40      0.33     12292\n",
      "\n"
     ]
    },
    {
     "name": "stderr",
     "output_type": "stream",
     "text": [
      "/home/caroline09/anaconda3/envs/machlearn/lib/python3.8/site-packages/sklearn/metrics/_classification.py:1221: UndefinedMetricWarning: Precision is ill-defined and being set to 0.0 in labels with no predicted samples. Use `zero_division` parameter to control this behavior.\n",
      "  _warn_prf(average, modifier, msg_start, len(result))\n"
     ]
    }
   ],
   "source": [
    "corpus= np.array(df3['Text'])\n",
    "targets = np.array(df3['Emotion'])\n",
    "\n",
    "\n",
    "# run base pipes\n",
    "res3 = run_pipes([pipe1, pipe2,pipe3,pipe4,pipe5], splits=1)"
   ]
  },
  {
   "cell_type": "code",
   "execution_count": 28,
   "metadata": {},
   "outputs": [
    {
     "data": {
      "text/html": [
       "<div>\n",
       "<style scoped>\n",
       "    .dataframe tbody tr th:only-of-type {\n",
       "        vertical-align: middle;\n",
       "    }\n",
       "\n",
       "    .dataframe tbody tr th {\n",
       "        vertical-align: top;\n",
       "    }\n",
       "\n",
       "    .dataframe thead th {\n",
       "        text-align: right;\n",
       "    }\n",
       "</style>\n",
       "<table border=\"1\" class=\"dataframe\">\n",
       "  <thead>\n",
       "    <tr style=\"text-align: right;\">\n",
       "      <th></th>\n",
       "      <th>index</th>\n",
       "      <th>time</th>\n",
       "      <th>precision_score</th>\n",
       "      <th>recall_score</th>\n",
       "      <th>f1_score</th>\n",
       "    </tr>\n",
       "  </thead>\n",
       "  <tbody>\n",
       "    <tr>\n",
       "      <th>0</th>\n",
       "      <td>vect-svml</td>\n",
       "      <td>98.31</td>\n",
       "      <td>0.46</td>\n",
       "      <td>0.47</td>\n",
       "      <td>0.46</td>\n",
       "    </tr>\n",
       "    <tr>\n",
       "      <th>1</th>\n",
       "      <td>vect-logit</td>\n",
       "      <td>134.89</td>\n",
       "      <td>0.49</td>\n",
       "      <td>0.51</td>\n",
       "      <td>0.49</td>\n",
       "    </tr>\n",
       "    <tr>\n",
       "      <th>2</th>\n",
       "      <td>vect-mult_nb</td>\n",
       "      <td>3.76</td>\n",
       "      <td>0.43</td>\n",
       "      <td>0.43</td>\n",
       "      <td>0.38</td>\n",
       "    </tr>\n",
       "    <tr>\n",
       "      <th>3</th>\n",
       "      <td>vect-compl_nb</td>\n",
       "      <td>3.78</td>\n",
       "      <td>0.44</td>\n",
       "      <td>0.47</td>\n",
       "      <td>0.45</td>\n",
       "    </tr>\n",
       "    <tr>\n",
       "      <th>4</th>\n",
       "      <td>vect-bern_nb</td>\n",
       "      <td>3.84</td>\n",
       "      <td>0.44</td>\n",
       "      <td>0.40</td>\n",
       "      <td>0.33</td>\n",
       "    </tr>\n",
       "  </tbody>\n",
       "</table>\n",
       "</div>"
      ],
      "text/plain": [
       "           index    time  precision_score  recall_score  f1_score\n",
       "0      vect-svml   98.31             0.46          0.47      0.46\n",
       "1     vect-logit  134.89             0.49          0.51      0.49\n",
       "2   vect-mult_nb    3.76             0.43          0.43      0.38\n",
       "3  vect-compl_nb    3.78             0.44          0.47      0.45\n",
       "4   vect-bern_nb    3.84             0.44          0.40      0.33"
      ]
     },
     "execution_count": 28,
     "metadata": {},
     "output_type": "execute_result"
    }
   ],
   "source": [
    "print_table(res3)"
   ]
  },
  {
   "cell_type": "markdown",
   "metadata": {},
   "source": [
    "The F1 scores seems to have improved compared to the second dataset only but the scores are still not very high compared to the first dataset."
   ]
  },
  {
   "cell_type": "markdown",
   "metadata": {},
   "source": [
    "### Conclusion"
   ]
  },
  {
   "cell_type": "markdown",
   "metadata": {},
   "source": [
    "When we compare these results with those in the notebook with the raw data, we can see there is no such a difference between the scores regardless of the dataset. In fact some classifiers scores in the raw version of the notebook are even slightly higher than in the preprocessed version. We can conclude than removing some vocabulary from the dataset might affect the data processing and the results."
   ]
  }
 ],
 "metadata": {
  "kernelspec": {
   "display_name": "Python 3",
   "language": "python",
   "name": "python3"
  },
  "language_info": {
   "codemirror_mode": {
    "name": "ipython",
    "version": 3
   },
   "file_extension": ".py",
   "mimetype": "text/x-python",
   "name": "python",
   "nbconvert_exporter": "python",
   "pygments_lexer": "ipython3",
   "version": "3.8.5"
  }
 },
 "nbformat": 4,
 "nbformat_minor": 4
}
